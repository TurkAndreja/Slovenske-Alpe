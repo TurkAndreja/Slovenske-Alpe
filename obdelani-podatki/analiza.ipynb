{
 "cells": [
  {
   "cell_type": "markdown",
   "metadata": {},
   "source": [
    "Slovenske Alpe\n",
    "==============\n",
    "\n",
    "> \"Vse to je moje življenje. Pot, ki ne pripelje nikamor drugam kakor na naslednjo pot in ta zopet na naslednje razpotje. Brez konca. [...] In to je zgodba, ki ni nastajala ob topli peči, temveč so besede rasle v meni, ko sem v potu svojega obraza preizkušal svojo voljo in meje človeške zmogljivosti; in preizkusil sem jih temeljito. Tako temeljito, da dobro vem, kako jih še niti od daleč nisem dosegel in da jih bodo mnogi prav kmalu presegli. V tem je veličina življenja.\"\n",
    "(Nejc Zaplotnik)\n",
    "\n",
    "Spodaj sledi kratka analiza podatkov tisoč sto petindvajsetih planinskih točk v Slovenskih Alpah."
   ]
  },
  {
   "cell_type": "code",
   "execution_count": 342,
   "metadata": {},
   "outputs": [],
   "source": [
    "# naložimo paket\n",
    "import pandas as pd\n",
    "\n",
    "# naložimo razpredelnico, s katero bomo delali\n",
    "planinske_tocke = pd.read_csv(r'C:\\Users\\Andreja\\Documents\\Programiranje\\Slovenske-Alpe\\obdelani-podatki\\planinske-tocke.csv')\n",
    "bliznje_tocke = pd.read_csv(r'C:\\Users\\Andreja\\Documents\\Programiranje\\Slovenske-Alpe\\obdelani-podatki\\bliznje-tocke.csv')\n",
    "poti = pd.read_csv(r'C:\\Users\\Andreja\\Documents\\Programiranje\\Slovenske-Alpe\\obdelani-podatki\\poti.csv')\n",
    "vrste = pd.read_csv(r'C:\\Users\\Andreja\\Documents\\Programiranje\\Slovenske-Alpe\\obdelani-podatki\\vrste.csv')\n",
    "\n",
    "# ker bomo delali z velikimi razpredelnicami, povemo, da naj se vedno izpiše le 20 vrstic\n",
    "pd.options.display.max_rows = 20\n"
   ]
  },
  {
   "cell_type": "code",
   "execution_count": 343,
   "metadata": {
    "scrolled": true
   },
   "outputs": [
    {
     "data": {
      "text/html": [
       "<div>\n",
       "<style scoped>\n",
       "    .dataframe tbody tr th:only-of-type {\n",
       "        vertical-align: middle;\n",
       "    }\n",
       "\n",
       "    .dataframe tbody tr th {\n",
       "        vertical-align: top;\n",
       "    }\n",
       "\n",
       "    .dataframe thead th {\n",
       "        text-align: right;\n",
       "    }\n",
       "</style>\n",
       "<table border=\"1\" class=\"dataframe\">\n",
       "  <thead>\n",
       "    <tr style=\"text-align: right;\">\n",
       "      <th></th>\n",
       "      <th>ime</th>\n",
       "      <th>gorovje</th>\n",
       "      <th>višina (m)</th>\n",
       "      <th>število ogledov</th>\n",
       "      <th>priljubljenost (mesto)</th>\n",
       "      <th>število planinskih točk v okolici</th>\n",
       "      <th>število poti</th>\n",
       "    </tr>\n",
       "  </thead>\n",
       "  <tbody>\n",
       "    <tr>\n",
       "      <td>0</td>\n",
       "      <td>Triglav</td>\n",
       "      <td>Julijske Alpe</td>\n",
       "      <td>2864</td>\n",
       "      <td>1148089</td>\n",
       "      <td>1</td>\n",
       "      <td>13</td>\n",
       "      <td>26</td>\n",
       "    </tr>\n",
       "    <tr>\n",
       "      <td>1</td>\n",
       "      <td>Montaž / Jôf di Montasio</td>\n",
       "      <td>Julijske Alpe</td>\n",
       "      <td>2753</td>\n",
       "      <td>622945</td>\n",
       "      <td>46</td>\n",
       "      <td>4</td>\n",
       "      <td>3</td>\n",
       "    </tr>\n",
       "    <tr>\n",
       "      <td>2</td>\n",
       "      <td>Škrlatica</td>\n",
       "      <td>Julijske Alpe</td>\n",
       "      <td>2740</td>\n",
       "      <td>654163</td>\n",
       "      <td>30</td>\n",
       "      <td>14</td>\n",
       "      <td>5</td>\n",
       "    </tr>\n",
       "    <tr>\n",
       "      <td>3</td>\n",
       "      <td>Mali Triglav</td>\n",
       "      <td>Julijske Alpe</td>\n",
       "      <td>2725</td>\n",
       "      <td>514378</td>\n",
       "      <td>210</td>\n",
       "      <td>12</td>\n",
       "      <td>3</td>\n",
       "    </tr>\n",
       "    <tr>\n",
       "      <td>4</td>\n",
       "      <td>Mangart</td>\n",
       "      <td>Julijske Alpe</td>\n",
       "      <td>2679</td>\n",
       "      <td>717796</td>\n",
       "      <td>8</td>\n",
       "      <td>2</td>\n",
       "      <td>8</td>\n",
       "    </tr>\n",
       "    <tr>\n",
       "      <td>...</td>\n",
       "      <td>...</td>\n",
       "      <td>...</td>\n",
       "      <td>...</td>\n",
       "      <td>...</td>\n",
       "      <td>...</td>\n",
       "      <td>...</td>\n",
       "      <td>...</td>\n",
       "    </tr>\n",
       "    <tr>\n",
       "      <td>1120</td>\n",
       "      <td>Sveti Mihael na Pečici</td>\n",
       "      <td>Karavanke</td>\n",
       "      <td>500</td>\n",
       "      <td>127654</td>\n",
       "      <td>1660</td>\n",
       "      <td>1</td>\n",
       "      <td>4</td>\n",
       "    </tr>\n",
       "    <tr>\n",
       "      <td>1121</td>\n",
       "      <td>Sveta Barbara v Zagradu</td>\n",
       "      <td>Karavanke</td>\n",
       "      <td>435</td>\n",
       "      <td>130</td>\n",
       "      <td>2578</td>\n",
       "      <td>1</td>\n",
       "      <td>3</td>\n",
       "    </tr>\n",
       "    <tr>\n",
       "      <td>1122</td>\n",
       "      <td>Sveti Miklavž (Sele)</td>\n",
       "      <td>Karavanke</td>\n",
       "      <td>435</td>\n",
       "      <td>89</td>\n",
       "      <td>2608</td>\n",
       "      <td>1</td>\n",
       "      <td>1</td>\n",
       "    </tr>\n",
       "    <tr>\n",
       "      <td>1123</td>\n",
       "      <td>Zbelovski grad</td>\n",
       "      <td>Karavanke</td>\n",
       "      <td>400</td>\n",
       "      <td>122632</td>\n",
       "      <td>1678</td>\n",
       "      <td>1</td>\n",
       "      <td>3</td>\n",
       "    </tr>\n",
       "    <tr>\n",
       "      <td>1124</td>\n",
       "      <td>Studeniški grad</td>\n",
       "      <td>Karavanke</td>\n",
       "      <td>315</td>\n",
       "      <td>171436</td>\n",
       "      <td>1489</td>\n",
       "      <td>3</td>\n",
       "      <td>3</td>\n",
       "    </tr>\n",
       "  </tbody>\n",
       "</table>\n",
       "<p>1125 rows × 7 columns</p>\n",
       "</div>"
      ],
      "text/plain": [
       "                           ime        gorovje  višina (m)  število ogledov  \\\n",
       "0                      Triglav  Julijske Alpe        2864          1148089   \n",
       "1     Montaž / Jôf di Montasio  Julijske Alpe        2753           622945   \n",
       "2                    Škrlatica  Julijske Alpe        2740           654163   \n",
       "3                 Mali Triglav  Julijske Alpe        2725           514378   \n",
       "4                      Mangart  Julijske Alpe        2679           717796   \n",
       "...                        ...            ...         ...              ...   \n",
       "1120    Sveti Mihael na Pečici      Karavanke         500           127654   \n",
       "1121   Sveta Barbara v Zagradu      Karavanke         435              130   \n",
       "1122      Sveti Miklavž (Sele)      Karavanke         435               89   \n",
       "1123            Zbelovski grad      Karavanke         400           122632   \n",
       "1124           Studeniški grad      Karavanke         315           171436   \n",
       "\n",
       "      priljubljenost (mesto)  število planinskih točk v okolici  število poti  \n",
       "0                          1                                 13            26  \n",
       "1                         46                                  4             3  \n",
       "2                         30                                 14             5  \n",
       "3                        210                                 12             3  \n",
       "4                          8                                  2             8  \n",
       "...                      ...                                ...           ...  \n",
       "1120                    1660                                  1             4  \n",
       "1121                    2578                                  1             3  \n",
       "1122                    2608                                  1             1  \n",
       "1123                    1678                                  1             3  \n",
       "1124                    1489                                  3             3  \n",
       "\n",
       "[1125 rows x 7 columns]"
      ]
     },
     "execution_count": 343,
     "metadata": {},
     "output_type": "execute_result"
    }
   ],
   "source": [
    "planinske_tocke"
   ]
  },
  {
   "cell_type": "code",
   "execution_count": 344,
   "metadata": {},
   "outputs": [
    {
     "data": {
      "text/plain": [
       "višina (m)           1694074\n",
       "število ogledov    352251075\n",
       "število poti            3593\n",
       "dtype: int64"
      ]
     },
     "execution_count": 344,
     "metadata": {},
     "output_type": "execute_result"
    }
   ],
   "source": [
    "planinske_tocke[['višina (m)', 'število ogledov', 'število poti']].sum()"
   ]
  },
  {
   "cell_type": "code",
   "execution_count": 348,
   "metadata": {},
   "outputs": [
    {
     "data": {
      "text/plain": [
       "1125"
      ]
     },
     "execution_count": 348,
     "metadata": {},
     "output_type": "execute_result"
    }
   ],
   "source": [
    "planinske_tocke.ime.count()"
   ]
  },
  {
   "cell_type": "markdown",
   "metadata": {},
   "source": [
    "Primerjava vseh treh delov Alp\n",
    "--------------------------------------------"
   ]
  },
  {
   "cell_type": "code",
   "execution_count": 349,
   "metadata": {},
   "outputs": [
    {
     "data": {
      "text/html": [
       "<div>\n",
       "<style scoped>\n",
       "    .dataframe tbody tr th:only-of-type {\n",
       "        vertical-align: middle;\n",
       "    }\n",
       "\n",
       "    .dataframe tbody tr th {\n",
       "        vertical-align: top;\n",
       "    }\n",
       "\n",
       "    .dataframe thead th {\n",
       "        text-align: right;\n",
       "    }\n",
       "</style>\n",
       "<table border=\"1\" class=\"dataframe\">\n",
       "  <thead>\n",
       "    <tr style=\"text-align: right;\">\n",
       "      <th></th>\n",
       "      <th>ime</th>\n",
       "      <th>gorovje</th>\n",
       "      <th>višina (m)</th>\n",
       "      <th>število ogledov</th>\n",
       "      <th>priljubljenost (mesto)</th>\n",
       "      <th>število planinskih točk v okolici</th>\n",
       "      <th>število poti</th>\n",
       "      <th>zaokrožena višina</th>\n",
       "    </tr>\n",
       "  </thead>\n",
       "  <tbody>\n",
       "    <tr>\n",
       "      <td>0</td>\n",
       "      <td>Triglav</td>\n",
       "      <td>Julijske Alpe</td>\n",
       "      <td>2864</td>\n",
       "      <td>1148089</td>\n",
       "      <td>1</td>\n",
       "      <td>13</td>\n",
       "      <td>26</td>\n",
       "      <td>2800</td>\n",
       "    </tr>\n",
       "    <tr>\n",
       "      <td>1</td>\n",
       "      <td>Montaž / Jôf di Montasio</td>\n",
       "      <td>Julijske Alpe</td>\n",
       "      <td>2753</td>\n",
       "      <td>622945</td>\n",
       "      <td>46</td>\n",
       "      <td>4</td>\n",
       "      <td>3</td>\n",
       "      <td>2700</td>\n",
       "    </tr>\n",
       "    <tr>\n",
       "      <td>2</td>\n",
       "      <td>Škrlatica</td>\n",
       "      <td>Julijske Alpe</td>\n",
       "      <td>2740</td>\n",
       "      <td>654163</td>\n",
       "      <td>30</td>\n",
       "      <td>14</td>\n",
       "      <td>5</td>\n",
       "      <td>2700</td>\n",
       "    </tr>\n",
       "    <tr>\n",
       "      <td>3</td>\n",
       "      <td>Mali Triglav</td>\n",
       "      <td>Julijske Alpe</td>\n",
       "      <td>2725</td>\n",
       "      <td>514378</td>\n",
       "      <td>210</td>\n",
       "      <td>12</td>\n",
       "      <td>3</td>\n",
       "      <td>2700</td>\n",
       "    </tr>\n",
       "    <tr>\n",
       "      <td>4</td>\n",
       "      <td>Mangart</td>\n",
       "      <td>Julijske Alpe</td>\n",
       "      <td>2679</td>\n",
       "      <td>717796</td>\n",
       "      <td>8</td>\n",
       "      <td>2</td>\n",
       "      <td>8</td>\n",
       "      <td>2600</td>\n",
       "    </tr>\n",
       "    <tr>\n",
       "      <td>...</td>\n",
       "      <td>...</td>\n",
       "      <td>...</td>\n",
       "      <td>...</td>\n",
       "      <td>...</td>\n",
       "      <td>...</td>\n",
       "      <td>...</td>\n",
       "      <td>...</td>\n",
       "      <td>...</td>\n",
       "    </tr>\n",
       "    <tr>\n",
       "      <td>1120</td>\n",
       "      <td>Sveti Mihael na Pečici</td>\n",
       "      <td>Karavanke</td>\n",
       "      <td>500</td>\n",
       "      <td>127654</td>\n",
       "      <td>1660</td>\n",
       "      <td>1</td>\n",
       "      <td>4</td>\n",
       "      <td>500</td>\n",
       "    </tr>\n",
       "    <tr>\n",
       "      <td>1121</td>\n",
       "      <td>Sveta Barbara v Zagradu</td>\n",
       "      <td>Karavanke</td>\n",
       "      <td>435</td>\n",
       "      <td>130</td>\n",
       "      <td>2578</td>\n",
       "      <td>1</td>\n",
       "      <td>3</td>\n",
       "      <td>400</td>\n",
       "    </tr>\n",
       "    <tr>\n",
       "      <td>1122</td>\n",
       "      <td>Sveti Miklavž (Sele)</td>\n",
       "      <td>Karavanke</td>\n",
       "      <td>435</td>\n",
       "      <td>89</td>\n",
       "      <td>2608</td>\n",
       "      <td>1</td>\n",
       "      <td>1</td>\n",
       "      <td>400</td>\n",
       "    </tr>\n",
       "    <tr>\n",
       "      <td>1123</td>\n",
       "      <td>Zbelovski grad</td>\n",
       "      <td>Karavanke</td>\n",
       "      <td>400</td>\n",
       "      <td>122632</td>\n",
       "      <td>1678</td>\n",
       "      <td>1</td>\n",
       "      <td>3</td>\n",
       "      <td>400</td>\n",
       "    </tr>\n",
       "    <tr>\n",
       "      <td>1124</td>\n",
       "      <td>Studeniški grad</td>\n",
       "      <td>Karavanke</td>\n",
       "      <td>315</td>\n",
       "      <td>171436</td>\n",
       "      <td>1489</td>\n",
       "      <td>3</td>\n",
       "      <td>3</td>\n",
       "      <td>300</td>\n",
       "    </tr>\n",
       "  </tbody>\n",
       "</table>\n",
       "<p>1125 rows × 8 columns</p>\n",
       "</div>"
      ],
      "text/plain": [
       "                           ime        gorovje  višina (m)  število ogledov  \\\n",
       "0                      Triglav  Julijske Alpe        2864          1148089   \n",
       "1     Montaž / Jôf di Montasio  Julijske Alpe        2753           622945   \n",
       "2                    Škrlatica  Julijske Alpe        2740           654163   \n",
       "3                 Mali Triglav  Julijske Alpe        2725           514378   \n",
       "4                      Mangart  Julijske Alpe        2679           717796   \n",
       "...                        ...            ...         ...              ...   \n",
       "1120    Sveti Mihael na Pečici      Karavanke         500           127654   \n",
       "1121   Sveta Barbara v Zagradu      Karavanke         435              130   \n",
       "1122      Sveti Miklavž (Sele)      Karavanke         435               89   \n",
       "1123            Zbelovski grad      Karavanke         400           122632   \n",
       "1124           Studeniški grad      Karavanke         315           171436   \n",
       "\n",
       "      priljubljenost (mesto)  število planinskih točk v okolici  število poti  \\\n",
       "0                          1                                 13            26   \n",
       "1                         46                                  4             3   \n",
       "2                         30                                 14             5   \n",
       "3                        210                                 12             3   \n",
       "4                          8                                  2             8   \n",
       "...                      ...                                ...           ...   \n",
       "1120                    1660                                  1             4   \n",
       "1121                    2578                                  1             3   \n",
       "1122                    2608                                  1             1   \n",
       "1123                    1678                                  1             3   \n",
       "1124                    1489                                  3             3   \n",
       "\n",
       "      zaokrožena višina  \n",
       "0                  2800  \n",
       "1                  2700  \n",
       "2                  2700  \n",
       "3                  2700  \n",
       "4                  2600  \n",
       "...                 ...  \n",
       "1120                500  \n",
       "1121                400  \n",
       "1122                400  \n",
       "1123                400  \n",
       "1124                300  \n",
       "\n",
       "[1125 rows x 8 columns]"
      ]
     },
     "execution_count": 349,
     "metadata": {},
     "output_type": "execute_result"
    }
   ],
   "source": [
    "planinske_tocke['zaokrožena višina'] = 100 * (planinske_tocke[['višina (m)']] // 100)\n",
    "planinske_tocke"
   ]
  },
  {
   "cell_type": "markdown",
   "metadata": {},
   "source": [
    "PRIMERJAVA PO VIŠINI\n",
    "\n",
    "Spodnji graf nam prikazuje porazdelitev planinskih točk po njihovivišini (zaokroženi na stotice). Graf priča, da se tudi Alpe v grobem trudijo slediti Gaussovi porazdelitvi.\n",
    "Julijci so seveda bistveno najvišji, sledijo jim Karavanke in potem Kamniške Alpe. Še vedno pa smo precej nizki. Že samo, če se primerjamo z nekaterimi drugimi deli Alp v drugih državah. Kaj šele s Himalajo ali pa goro Olimp na Marsu (ki je v resnici vulkan), ki ima približno 22 000 m nadmorske višine. \n",
    "\n",
    "Zakaj so potem Slovenske gore tako zelo obiskane? Med jedrnatim pogovorom z mojim očetom, je ta dejal, da so naše Alpe ene redkih, resnično redkih gorskih območij, ki imajo sploh označene poti in so na težavnih mestih tudi primerno zavarovane. V ostalih državah za vzpone skoraj vedno potrebuješ vodiča. Zanimivo, kajne?\n"
   ]
  },
  {
   "cell_type": "code",
   "execution_count": 351,
   "metadata": {},
   "outputs": [],
   "source": [
    "#definiramo razpredelnice z istimi podatki kot planinske_toske za posamezne dele Alp\n",
    "julijci = planinske_tocke[planinske_tocke.gorovje == 'Julijske Alpe']\n",
    "grintovci = planinske_tocke[planinske_tocke.gorovje == 'Kamniško Savinjske Alpe']\n",
    "karavanke = planinske_tocke[planinske_tocke.gorovje == 'Karavanke']"
   ]
  },
  {
   "cell_type": "code",
   "execution_count": 18,
   "metadata": {
    "scrolled": false
   },
   "outputs": [
    {
     "data": {
      "text/plain": [
       "zaokrožena višina\n",
       "100      1\n",
       "200      2\n",
       "300      5\n",
       "400     21\n",
       "500     30\n",
       "600     38\n",
       "700     45\n",
       "800     59\n",
       "900     36\n",
       "1000    52\n",
       "1100    51\n",
       "1200    61\n",
       "1300    62\n",
       "1400    68\n",
       "1500    98\n",
       "1600    75\n",
       "1700    55\n",
       "1800    63\n",
       "1900    71\n",
       "2000    66\n",
       "2100    39\n",
       "2200    26\n",
       "2300    37\n",
       "2400    29\n",
       "2500    23\n",
       "2600     8\n",
       "2700     3\n",
       "2800     1\n",
       "dtype: int64"
      ]
     },
     "execution_count": 18,
     "metadata": {},
     "output_type": "execute_result"
    }
   ],
   "source": [
    "planinske_tocke.groupby('zaokrožena višina').size()"
   ]
  },
  {
   "cell_type": "code",
   "execution_count": 357,
   "metadata": {},
   "outputs": [
    {
     "data": {
      "text/plain": [
       "<matplotlib.axes._subplots.AxesSubplot at 0x1805bdf9a58>"
      ]
     },
     "execution_count": 357,
     "metadata": {},
     "output_type": "execute_result"
    },
    {
     "data": {
      "image/png": "[encoded data removed]",
      "text/plain": [
       "<Figure size 432x288 with 1 Axes>"
      ]
     },
     "metadata": {
      "needs_background": "light"
     },
     "output_type": "display_data"
    }
   ],
   "source": [
    "#porazdelitev po višini za Alpe\n",
    "planinske_tocke[['ime', 'zaokrožena višina']].groupby('zaokrožena višina').size().plot.bar()"
   ]
  },
  {
   "cell_type": "code",
   "execution_count": 352,
   "metadata": {},
   "outputs": [
    {
     "data": {
      "text/plain": [
       "<matplotlib.axes._subplots.AxesSubplot at 0x1805bb72668>"
      ]
     },
     "execution_count": 352,
     "metadata": {},
     "output_type": "execute_result"
    },
    {
     "data": {
      "image/png": "[encoded data removed]",
      "text/plain": [
       "<Figure size 432x288 with 1 Axes>"
      ]
     },
     "metadata": {
      "needs_background": "light"
     },
     "output_type": "display_data"
    }
   ],
   "source": [
    "#porazdelitev po višini za Julijske Alpe\n",
    "julijci.groupby('zaokrožena višina').size().plot.bar()"
   ]
  },
  {
   "cell_type": "code",
   "execution_count": 353,
   "metadata": {},
   "outputs": [
    {
     "data": {
      "text/plain": [
       "<matplotlib.axes._subplots.AxesSubplot at 0x1805b94c630>"
      ]
     },
     "execution_count": 353,
     "metadata": {},
     "output_type": "execute_result"
    },
    {
     "data": {
      "image/png": "[encoded data removed]",
      "text/plain": [
       "<Figure size 432x288 with 1 Axes>"
      ]
     },
     "metadata": {
      "needs_background": "light"
     },
     "output_type": "display_data"
    }
   ],
   "source": [
    "#porazdelitev po višini za Kamniške Alpe\n",
    "grintovci.groupby('zaokrožena višina').size().plot.bar()"
   ]
  },
  {
   "cell_type": "code",
   "execution_count": 354,
   "metadata": {},
   "outputs": [
    {
     "data": {
      "text/plain": [
       "<matplotlib.axes._subplots.AxesSubplot at 0x1805bbc7668>"
      ]
     },
     "execution_count": 354,
     "metadata": {},
     "output_type": "execute_result"
    },
    {
     "data": {
      "image/png": "[encoded data removed]",
      "text/plain": [
       "<Figure size 432x288 with 1 Axes>"
      ]
     },
     "metadata": {
      "needs_background": "light"
     },
     "output_type": "display_data"
    }
   ],
   "source": [
    "#porazdelitev za Karavanke\n",
    "karavanke.groupby('zaokrožena višina').size().plot.bar()"
   ]
  },
  {
   "cell_type": "code",
   "execution_count": 358,
   "metadata": {},
   "outputs": [
    {
     "data": {
      "text/plain": [
       "<matplotlib.axes._subplots.AxesSubplot at 0x1805bea7358>"
      ]
     },
     "execution_count": 358,
     "metadata": {},
     "output_type": "execute_result"
    },
    {
     "data": {
      "image/png": "[encoded data removed]",
      "text/plain": [
       "<Figure size 432x288 with 1 Axes>"
      ]
     },
     "metadata": {
      "needs_background": "light"
     },
     "output_type": "display_data"
    }
   ],
   "source": [
    "#graf povprečne višine točk za posamezne dele Alp\n",
    "planinske_tocke[['gorovje', 'višina (m)']].groupby('gorovje').mean().plot.bar()"
   ]
  },
  {
   "cell_type": "code",
   "execution_count": 359,
   "metadata": {},
   "outputs": [
    {
     "data": {
      "text/html": [
       "<div>\n",
       "<style scoped>\n",
       "    .dataframe tbody tr th:only-of-type {\n",
       "        vertical-align: middle;\n",
       "    }\n",
       "\n",
       "    .dataframe tbody tr th {\n",
       "        vertical-align: top;\n",
       "    }\n",
       "\n",
       "    .dataframe thead th {\n",
       "        text-align: right;\n",
       "    }\n",
       "</style>\n",
       "<table border=\"1\" class=\"dataframe\">\n",
       "  <thead>\n",
       "    <tr style=\"text-align: right;\">\n",
       "      <th></th>\n",
       "      <th>višina (m)</th>\n",
       "    </tr>\n",
       "    <tr>\n",
       "      <th>gorovje</th>\n",
       "      <th></th>\n",
       "    </tr>\n",
       "  </thead>\n",
       "  <tbody>\n",
       "    <tr>\n",
       "      <td>Julijske Alpe</td>\n",
       "      <td>1650.0</td>\n",
       "    </tr>\n",
       "    <tr>\n",
       "      <td>Kamniško Savinjske Alpe</td>\n",
       "      <td>1402.0</td>\n",
       "    </tr>\n",
       "    <tr>\n",
       "      <td>Karavanke</td>\n",
       "      <td>1356.0</td>\n",
       "    </tr>\n",
       "  </tbody>\n",
       "</table>\n",
       "</div>"
      ],
      "text/plain": [
       "                         višina (m)\n",
       "gorovje                            \n",
       "Julijske Alpe                1650.0\n",
       "Kamniško Savinjske Alpe      1402.0\n",
       "Karavanke                    1356.0"
      ]
     },
     "execution_count": 359,
     "metadata": {},
     "output_type": "execute_result"
    }
   ],
   "source": [
    "#povprečna višina točk\n",
    "import math\n",
    "planinske_tocke.groupby('gorovje')[['višina (m)']].mean().round() #ne dela apply(int)?(int())?\n"
   ]
  },
  {
   "cell_type": "markdown",
   "metadata": {},
   "source": [
    "PRIMERJAVA PO PRILJUBLJENOSTI IN OGLEDIH\n",
    "\n",
    "V resnici res nisem pričakovala, da bodo tri najbolj priljubljene planinske točke prav najvišji vrhovi posameznega dela Alp. Še bolj je zanimivo, da je takoj na četrtem mestu Storžič, četudi bolj vrhnji predel povsod prekrivajo ovčji kakci (in podplate čevljev in roke :)). Je pa to res eden lepše dosegljivih dvatisočakov in je zato zelo prijazen za družine.\n",
    "Zanimivo je tudi, da je Mali Triglav šele na 210. mestu, medtem ko je Triglav kraljuje na prvem, saj večina planincev če ne ravno za vzpod na Triglav, vsaj za sestop z njega izbere pot čez Mali Triglav. Ta pot je zaradi takega navala ljudi že prav nevarno gladka.\n",
    "\n",
    "Še vedno so najbolj priljubljeni Julijci, takoj za njimi Kamniške Alpe, Karavanke pa niti ne toliko.\n",
    "(Morda na rezultate vpliva tudi dejstvo, da imajo Julijci bistveno več, skoraj toliko planinskih točk kot Kamniške Alpe in Karavanke skupaj.)\n"
   ]
  },
  {
   "cell_type": "code",
   "execution_count": 360,
   "metadata": {},
   "outputs": [
    {
     "data": {
      "text/plain": [
       "gorovje\n",
       "Julijske Alpe              531\n",
       "Kamniško Savinjske Alpe    271\n",
       "Karavanke                  323\n",
       "Name: ime, dtype: int64"
      ]
     },
     "execution_count": 360,
     "metadata": {},
     "output_type": "execute_result"
    }
   ],
   "source": [
    "#število planinskih točk po gorovju\n",
    "planinske_tocke.groupby('gorovje').ime.count()"
   ]
  },
  {
   "cell_type": "code",
   "execution_count": 362,
   "metadata": {},
   "outputs": [
    {
     "data": {
      "text/html": [
       "<div>\n",
       "<style scoped>\n",
       "    .dataframe tbody tr th:only-of-type {\n",
       "        vertical-align: middle;\n",
       "    }\n",
       "\n",
       "    .dataframe tbody tr th {\n",
       "        vertical-align: top;\n",
       "    }\n",
       "\n",
       "    .dataframe thead th {\n",
       "        text-align: right;\n",
       "    }\n",
       "</style>\n",
       "<table border=\"1\" class=\"dataframe\">\n",
       "  <thead>\n",
       "    <tr style=\"text-align: right;\">\n",
       "      <th></th>\n",
       "      <th>ime</th>\n",
       "      <th>priljubljenost (mesto)</th>\n",
       "      <th>število ogledov</th>\n",
       "    </tr>\n",
       "  </thead>\n",
       "  <tbody>\n",
       "    <tr>\n",
       "      <td>0</td>\n",
       "      <td>Triglav</td>\n",
       "      <td>1</td>\n",
       "      <td>1148089</td>\n",
       "    </tr>\n",
       "    <tr>\n",
       "      <td>531</td>\n",
       "      <td>Grintovec</td>\n",
       "      <td>2</td>\n",
       "      <td>820450</td>\n",
       "    </tr>\n",
       "    <tr>\n",
       "      <td>802</td>\n",
       "      <td>Stol</td>\n",
       "      <td>3</td>\n",
       "      <td>796209</td>\n",
       "    </tr>\n",
       "    <tr>\n",
       "      <td>549</td>\n",
       "      <td>Storžič</td>\n",
       "      <td>4</td>\n",
       "      <td>781018</td>\n",
       "    </tr>\n",
       "    <tr>\n",
       "      <td>817</td>\n",
       "      <td>Begunjščica</td>\n",
       "      <td>5</td>\n",
       "      <td>730770</td>\n",
       "    </tr>\n",
       "    <tr>\n",
       "      <td>582</td>\n",
       "      <td>Kamniška koča na Kamniškem sedlu</td>\n",
       "      <td>6</td>\n",
       "      <td>727958</td>\n",
       "    </tr>\n",
       "    <tr>\n",
       "      <td>99</td>\n",
       "      <td>Krn</td>\n",
       "      <td>7</td>\n",
       "      <td>722940</td>\n",
       "    </tr>\n",
       "    <tr>\n",
       "      <td>4</td>\n",
       "      <td>Mangart</td>\n",
       "      <td>8</td>\n",
       "      <td>717796</td>\n",
       "    </tr>\n",
       "    <tr>\n",
       "      <td>542</td>\n",
       "      <td>Ojstrica</td>\n",
       "      <td>9</td>\n",
       "      <td>717524</td>\n",
       "    </tr>\n",
       "    <tr>\n",
       "      <td>149</td>\n",
       "      <td>Viševnik</td>\n",
       "      <td>10</td>\n",
       "      <td>709922</td>\n",
       "    </tr>\n",
       "  </tbody>\n",
       "</table>\n",
       "</div>"
      ],
      "text/plain": [
       "                                  ime  priljubljenost (mesto)  število ogledov\n",
       "0                             Triglav                       1          1148089\n",
       "531                         Grintovec                       2           820450\n",
       "802                              Stol                       3           796209\n",
       "549                           Storžič                       4           781018\n",
       "817                       Begunjščica                       5           730770\n",
       "582  Kamniška koča na Kamniškem sedlu                       6           727958\n",
       "99                                Krn                       7           722940\n",
       "4                             Mangart                       8           717796\n",
       "542                          Ojstrica                       9           717524\n",
       "149                          Viševnik                      10           709922"
      ]
     },
     "execution_count": 362,
     "metadata": {},
     "output_type": "execute_result"
    }
   ],
   "source": [
    "#točke po priljubljenosti\n",
    "planinske_tocke[['ime', 'priljubljenost (mesto)', 'število ogledov']].sort_values('priljubljenost (mesto)', ascending = True).head(10)"
   ]
  },
  {
   "cell_type": "code",
   "execution_count": 363,
   "metadata": {},
   "outputs": [
    {
     "data": {
      "text/html": [
       "<div>\n",
       "<style scoped>\n",
       "    .dataframe tbody tr th:only-of-type {\n",
       "        vertical-align: middle;\n",
       "    }\n",
       "\n",
       "    .dataframe tbody tr th {\n",
       "        vertical-align: top;\n",
       "    }\n",
       "\n",
       "    .dataframe thead th {\n",
       "        text-align: right;\n",
       "    }\n",
       "</style>\n",
       "<table border=\"1\" class=\"dataframe\">\n",
       "  <thead>\n",
       "    <tr style=\"text-align: right;\">\n",
       "      <th></th>\n",
       "      <th>ime</th>\n",
       "      <th>priljubljenost (mesto)</th>\n",
       "      <th>število ogledov</th>\n",
       "    </tr>\n",
       "  </thead>\n",
       "  <tbody>\n",
       "    <tr>\n",
       "      <td>0</td>\n",
       "      <td>Triglav</td>\n",
       "      <td>1</td>\n",
       "      <td>1148089</td>\n",
       "    </tr>\n",
       "    <tr>\n",
       "      <td>99</td>\n",
       "      <td>Krn</td>\n",
       "      <td>7</td>\n",
       "      <td>722940</td>\n",
       "    </tr>\n",
       "    <tr>\n",
       "      <td>4</td>\n",
       "      <td>Mangart</td>\n",
       "      <td>8</td>\n",
       "      <td>717796</td>\n",
       "    </tr>\n",
       "    <tr>\n",
       "      <td>149</td>\n",
       "      <td>Viševnik</td>\n",
       "      <td>10</td>\n",
       "      <td>709922</td>\n",
       "    </tr>\n",
       "    <tr>\n",
       "      <td>273</td>\n",
       "      <td>Koča pri Triglavskih jezerih</td>\n",
       "      <td>11</td>\n",
       "      <td>697719</td>\n",
       "    </tr>\n",
       "    <tr>\n",
       "      <td>8</td>\n",
       "      <td>Jalovec</td>\n",
       "      <td>18</td>\n",
       "      <td>682623</td>\n",
       "    </tr>\n",
       "    <tr>\n",
       "      <td>18</td>\n",
       "      <td>Prisank / Prisojnik</td>\n",
       "      <td>19</td>\n",
       "      <td>674139</td>\n",
       "    </tr>\n",
       "    <tr>\n",
       "      <td>160</td>\n",
       "      <td>Debela peč</td>\n",
       "      <td>21</td>\n",
       "      <td>672652</td>\n",
       "    </tr>\n",
       "    <tr>\n",
       "      <td>79</td>\n",
       "      <td>Mala Mojstrovka</td>\n",
       "      <td>29</td>\n",
       "      <td>654706</td>\n",
       "    </tr>\n",
       "    <tr>\n",
       "      <td>2</td>\n",
       "      <td>Škrlatica</td>\n",
       "      <td>30</td>\n",
       "      <td>654163</td>\n",
       "    </tr>\n",
       "  </tbody>\n",
       "</table>\n",
       "</div>"
      ],
      "text/plain": [
       "                              ime  priljubljenost (mesto)  število ogledov\n",
       "0                         Triglav                       1          1148089\n",
       "99                            Krn                       7           722940\n",
       "4                         Mangart                       8           717796\n",
       "149                      Viševnik                      10           709922\n",
       "273  Koča pri Triglavskih jezerih                      11           697719\n",
       "8                         Jalovec                      18           682623\n",
       "18            Prisank / Prisojnik                      19           674139\n",
       "160                    Debela peč                      21           672652\n",
       "79                Mala Mojstrovka                      29           654706\n",
       "2                       Škrlatica                      30           654163"
      ]
     },
     "execution_count": 363,
     "metadata": {},
     "output_type": "execute_result"
    }
   ],
   "source": [
    "#točke po priljubljenosti za Julijske Alpe\n",
    "julijci[['ime', 'priljubljenost (mesto)', 'število ogledov']].sort_values('priljubljenost (mesto)', ascending = True).head(10)"
   ]
  },
  {
   "cell_type": "code",
   "execution_count": 364,
   "metadata": {},
   "outputs": [
    {
     "data": {
      "text/html": [
       "<div>\n",
       "<style scoped>\n",
       "    .dataframe tbody tr th:only-of-type {\n",
       "        vertical-align: middle;\n",
       "    }\n",
       "\n",
       "    .dataframe tbody tr th {\n",
       "        vertical-align: top;\n",
       "    }\n",
       "\n",
       "    .dataframe thead th {\n",
       "        text-align: right;\n",
       "    }\n",
       "</style>\n",
       "<table border=\"1\" class=\"dataframe\">\n",
       "  <thead>\n",
       "    <tr style=\"text-align: right;\">\n",
       "      <th></th>\n",
       "      <th>ime</th>\n",
       "      <th>priljubljenost (mesto)</th>\n",
       "      <th>število ogledov</th>\n",
       "    </tr>\n",
       "  </thead>\n",
       "  <tbody>\n",
       "    <tr>\n",
       "      <td>531</td>\n",
       "      <td>Grintovec</td>\n",
       "      <td>2</td>\n",
       "      <td>820450</td>\n",
       "    </tr>\n",
       "    <tr>\n",
       "      <td>549</td>\n",
       "      <td>Storžič</td>\n",
       "      <td>4</td>\n",
       "      <td>781018</td>\n",
       "    </tr>\n",
       "    <tr>\n",
       "      <td>582</td>\n",
       "      <td>Kamniška koča na Kamniškem sedlu</td>\n",
       "      <td>6</td>\n",
       "      <td>727958</td>\n",
       "    </tr>\n",
       "    <tr>\n",
       "      <td>542</td>\n",
       "      <td>Ojstrica</td>\n",
       "      <td>9</td>\n",
       "      <td>717524</td>\n",
       "    </tr>\n",
       "    <tr>\n",
       "      <td>533</td>\n",
       "      <td>Skuta</td>\n",
       "      <td>13</td>\n",
       "      <td>694659</td>\n",
       "    </tr>\n",
       "    <tr>\n",
       "      <td>560</td>\n",
       "      <td>Velika Raduha</td>\n",
       "      <td>14</td>\n",
       "      <td>694536</td>\n",
       "    </tr>\n",
       "    <tr>\n",
       "      <td>611</td>\n",
       "      <td>Gradišče (Velika planina)</td>\n",
       "      <td>15</td>\n",
       "      <td>687291</td>\n",
       "    </tr>\n",
       "    <tr>\n",
       "      <td>636</td>\n",
       "      <td>Češka koča na Spodnjih Ravneh</td>\n",
       "      <td>23</td>\n",
       "      <td>669101</td>\n",
       "    </tr>\n",
       "    <tr>\n",
       "      <td>544</td>\n",
       "      <td>Brana</td>\n",
       "      <td>27</td>\n",
       "      <td>656650</td>\n",
       "    </tr>\n",
       "    <tr>\n",
       "      <td>658</td>\n",
       "      <td>Koča na Kriški gori</td>\n",
       "      <td>33</td>\n",
       "      <td>645111</td>\n",
       "    </tr>\n",
       "  </tbody>\n",
       "</table>\n",
       "</div>"
      ],
      "text/plain": [
       "                                  ime  priljubljenost (mesto)  število ogledov\n",
       "531                         Grintovec                       2           820450\n",
       "549                           Storžič                       4           781018\n",
       "582  Kamniška koča na Kamniškem sedlu                       6           727958\n",
       "542                          Ojstrica                       9           717524\n",
       "533                             Skuta                      13           694659\n",
       "560                     Velika Raduha                      14           694536\n",
       "611         Gradišče (Velika planina)                      15           687291\n",
       "636     Češka koča na Spodnjih Ravneh                      23           669101\n",
       "544                             Brana                      27           656650\n",
       "658               Koča na Kriški gori                      33           645111"
      ]
     },
     "execution_count": 364,
     "metadata": {},
     "output_type": "execute_result"
    }
   ],
   "source": [
    "#za Kamniške Alpe\n",
    "grintovci[['ime', 'priljubljenost (mesto)', 'število ogledov']].sort_values('priljubljenost (mesto)', ascending = True).head(10)"
   ]
  },
  {
   "cell_type": "code",
   "execution_count": 365,
   "metadata": {},
   "outputs": [
    {
     "data": {
      "text/html": [
       "<div>\n",
       "<style scoped>\n",
       "    .dataframe tbody tr th:only-of-type {\n",
       "        vertical-align: middle;\n",
       "    }\n",
       "\n",
       "    .dataframe tbody tr th {\n",
       "        vertical-align: top;\n",
       "    }\n",
       "\n",
       "    .dataframe thead th {\n",
       "        text-align: right;\n",
       "    }\n",
       "</style>\n",
       "<table border=\"1\" class=\"dataframe\">\n",
       "  <thead>\n",
       "    <tr style=\"text-align: right;\">\n",
       "      <th></th>\n",
       "      <th>ime</th>\n",
       "      <th>priljubljenost (mesto)</th>\n",
       "      <th>število ogledov</th>\n",
       "    </tr>\n",
       "  </thead>\n",
       "  <tbody>\n",
       "    <tr>\n",
       "      <td>802</td>\n",
       "      <td>Stol</td>\n",
       "      <td>3</td>\n",
       "      <td>796209</td>\n",
       "    </tr>\n",
       "    <tr>\n",
       "      <td>817</td>\n",
       "      <td>Begunjščica</td>\n",
       "      <td>5</td>\n",
       "      <td>730770</td>\n",
       "    </tr>\n",
       "    <tr>\n",
       "      <td>944</td>\n",
       "      <td>Dom na Kofcah</td>\n",
       "      <td>12</td>\n",
       "      <td>697379</td>\n",
       "    </tr>\n",
       "    <tr>\n",
       "      <td>849</td>\n",
       "      <td>Golica</td>\n",
       "      <td>16</td>\n",
       "      <td>686565</td>\n",
       "    </tr>\n",
       "    <tr>\n",
       "      <td>808</td>\n",
       "      <td>Kordeževa glava (Peca)</td>\n",
       "      <td>26</td>\n",
       "      <td>659090</td>\n",
       "    </tr>\n",
       "    <tr>\n",
       "      <td>813</td>\n",
       "      <td>Veliki vrh (Košuta)</td>\n",
       "      <td>28</td>\n",
       "      <td>656176</td>\n",
       "    </tr>\n",
       "    <tr>\n",
       "      <td>878</td>\n",
       "      <td>Uršlja gora (Plešivec)</td>\n",
       "      <td>31</td>\n",
       "      <td>646813</td>\n",
       "    </tr>\n",
       "    <tr>\n",
       "      <td>896</td>\n",
       "      <td>Roblekov dom na Begunjščici</td>\n",
       "      <td>32</td>\n",
       "      <td>646642</td>\n",
       "    </tr>\n",
       "    <tr>\n",
       "      <td>803</td>\n",
       "      <td>Vrtača</td>\n",
       "      <td>39</td>\n",
       "      <td>629286</td>\n",
       "    </tr>\n",
       "    <tr>\n",
       "      <td>1052</td>\n",
       "      <td>Boč</td>\n",
       "      <td>59</td>\n",
       "      <td>597437</td>\n",
       "    </tr>\n",
       "  </tbody>\n",
       "</table>\n",
       "</div>"
      ],
      "text/plain": [
       "                              ime  priljubljenost (mesto)  število ogledov\n",
       "802                          Stol                       3           796209\n",
       "817                   Begunjščica                       5           730770\n",
       "944                 Dom na Kofcah                      12           697379\n",
       "849                        Golica                      16           686565\n",
       "808        Kordeževa glava (Peca)                      26           659090\n",
       "813           Veliki vrh (Košuta)                      28           656176\n",
       "878        Uršlja gora (Plešivec)                      31           646813\n",
       "896   Roblekov dom na Begunjščici                      32           646642\n",
       "803                        Vrtača                      39           629286\n",
       "1052                          Boč                      59           597437"
      ]
     },
     "execution_count": 365,
     "metadata": {},
     "output_type": "execute_result"
    }
   ],
   "source": [
    "#za Karavanke\n",
    "karavanke[['ime', 'priljubljenost (mesto)', 'število ogledov']].sort_values('priljubljenost (mesto)', ascending = True).head(10)"
   ]
  },
  {
   "cell_type": "code",
   "execution_count": 366,
   "metadata": {},
   "outputs": [
    {
     "data": {
      "text/html": [
       "<div>\n",
       "<style scoped>\n",
       "    .dataframe tbody tr th:only-of-type {\n",
       "        vertical-align: middle;\n",
       "    }\n",
       "\n",
       "    .dataframe tbody tr th {\n",
       "        vertical-align: top;\n",
       "    }\n",
       "\n",
       "    .dataframe thead th {\n",
       "        text-align: right;\n",
       "    }\n",
       "</style>\n",
       "<table border=\"1\" class=\"dataframe\">\n",
       "  <thead>\n",
       "    <tr style=\"text-align: right;\">\n",
       "      <th></th>\n",
       "      <th>priljubljenost (mesto)</th>\n",
       "    </tr>\n",
       "    <tr>\n",
       "      <th>gorovje</th>\n",
       "      <th></th>\n",
       "    </tr>\n",
       "  </thead>\n",
       "  <tbody>\n",
       "    <tr>\n",
       "      <td>Julijske Alpe</td>\n",
       "      <td>876.0</td>\n",
       "    </tr>\n",
       "    <tr>\n",
       "      <td>Kamniško Savinjske Alpe</td>\n",
       "      <td>897.0</td>\n",
       "    </tr>\n",
       "    <tr>\n",
       "      <td>Karavanke</td>\n",
       "      <td>1271.0</td>\n",
       "    </tr>\n",
       "  </tbody>\n",
       "</table>\n",
       "</div>"
      ],
      "text/plain": [
       "                         priljubljenost (mesto)\n",
       "gorovje                                        \n",
       "Julijske Alpe                             876.0\n",
       "Kamniško Savinjske Alpe                   897.0\n",
       "Karavanke                                1271.0"
      ]
     },
     "execution_count": 366,
     "metadata": {},
     "output_type": "execute_result"
    }
   ],
   "source": [
    "#povprečje mest po priljubljenosti\n",
    "planinske_tocke.groupby('gorovje')[['priljubljenost (mesto)']].mean().round() #ne dela apply(int)"
   ]
  },
  {
   "cell_type": "code",
   "execution_count": 367,
   "metadata": {},
   "outputs": [
    {
     "data": {
      "text/plain": [
       "<matplotlib.axes._subplots.AxesSubplot at 0x1805bf925f8>"
      ]
     },
     "execution_count": 367,
     "metadata": {},
     "output_type": "execute_result"
    },
    {
     "data": {
      "image/png": "[encoded data removed]",
      "text/plain": [
       "<Figure size 432x288 with 1 Axes>"
      ]
     },
     "metadata": {
      "needs_background": "light"
     },
     "output_type": "display_data"
    },
    {
     "data": {
      "image/png": "[encoded data removed]",
      "text/plain": [
       "<Figure size 432x288 with 1 Axes>"
      ]
     },
     "metadata": {
      "needs_background": "light"
     },
     "output_type": "display_data"
    }
   ],
   "source": [
    "#povprečja mest po priljubljenosti in števila ogledov\n",
    "planinske_tocke.groupby('gorovje')[['število ogledov' ]].mean().plot.bar()\n",
    "planinske_tocke.groupby('gorovje')[['priljubljenost (mesto)' ]].mean().plot.bar()"
   ]
  },
  {
   "cell_type": "code",
   "execution_count": 28,
   "metadata": {},
   "outputs": [
    {
     "data": {
      "text/html": [
       "<div>\n",
       "<style scoped>\n",
       "    .dataframe tbody tr th:only-of-type {\n",
       "        vertical-align: middle;\n",
       "    }\n",
       "\n",
       "    .dataframe tbody tr th {\n",
       "        vertical-align: top;\n",
       "    }\n",
       "\n",
       "    .dataframe thead th {\n",
       "        text-align: right;\n",
       "    }\n",
       "</style>\n",
       "<table border=\"1\" class=\"dataframe\">\n",
       "  <thead>\n",
       "    <tr style=\"text-align: right;\">\n",
       "      <th></th>\n",
       "      <th>število ogledov</th>\n",
       "    </tr>\n",
       "    <tr>\n",
       "      <th>gorovje</th>\n",
       "      <th></th>\n",
       "    </tr>\n",
       "  </thead>\n",
       "  <tbody>\n",
       "    <tr>\n",
       "      <td>Julijske Alpe</td>\n",
       "      <td>339617.0</td>\n",
       "    </tr>\n",
       "    <tr>\n",
       "      <td>Kamniško Savinjske Alpe</td>\n",
       "      <td>340740.0</td>\n",
       "    </tr>\n",
       "    <tr>\n",
       "      <td>Karavanke</td>\n",
       "      <td>246360.0</td>\n",
       "    </tr>\n",
       "  </tbody>\n",
       "</table>\n",
       "</div>"
      ],
      "text/plain": [
       "                         število ogledov\n",
       "gorovje                                 \n",
       "Julijske Alpe                   339617.0\n",
       "Kamniško Savinjske Alpe         340740.0\n",
       "Karavanke                       246360.0"
      ]
     },
     "execution_count": 28,
     "metadata": {},
     "output_type": "execute_result"
    }
   ],
   "source": [
    "#povprečje ogledov\n",
    "planinske_tocke[['gorovje', 'število ogledov']].groupby('gorovje').mean().round() #ne dela appy(int)"
   ]
  },
  {
   "cell_type": "markdown",
   "metadata": {},
   "source": [
    "PRIMERJAVA PO POTEH\n",
    "Imamo le 10 planinskih točk, na katere ne vodi nobena \"uradna\" pot."
   ]
  },
  {
   "cell_type": "code",
   "execution_count": 29,
   "metadata": {},
   "outputs": [
    {
     "data": {
      "text/html": [
       "<div>\n",
       "<style scoped>\n",
       "    .dataframe tbody tr th:only-of-type {\n",
       "        vertical-align: middle;\n",
       "    }\n",
       "\n",
       "    .dataframe tbody tr th {\n",
       "        vertical-align: top;\n",
       "    }\n",
       "\n",
       "    .dataframe thead th {\n",
       "        text-align: right;\n",
       "    }\n",
       "</style>\n",
       "<table border=\"1\" class=\"dataframe\">\n",
       "  <thead>\n",
       "    <tr style=\"text-align: right;\">\n",
       "      <th></th>\n",
       "      <th>število poti</th>\n",
       "    </tr>\n",
       "    <tr>\n",
       "      <th>gorovje</th>\n",
       "      <th></th>\n",
       "    </tr>\n",
       "  </thead>\n",
       "  <tbody>\n",
       "    <tr>\n",
       "      <td>Julijske Alpe</td>\n",
       "      <td>1434</td>\n",
       "    </tr>\n",
       "    <tr>\n",
       "      <td>Kamniško Savinjske Alpe</td>\n",
       "      <td>1124</td>\n",
       "    </tr>\n",
       "    <tr>\n",
       "      <td>Karavanke</td>\n",
       "      <td>1035</td>\n",
       "    </tr>\n",
       "  </tbody>\n",
       "</table>\n",
       "</div>"
      ],
      "text/plain": [
       "                         število poti\n",
       "gorovje                              \n",
       "Julijske Alpe                    1434\n",
       "Kamniško Savinjske Alpe          1124\n",
       "Karavanke                        1035"
      ]
     },
     "execution_count": 29,
     "metadata": {},
     "output_type": "execute_result"
    }
   ],
   "source": [
    "#število poti: Največ jih je v Julijcih, a na to gotovo vpliva, da imajo Julijci tudi največ planinskih točk\n",
    "planinske_tocke[['gorovje', 'število poti']].groupby('gorovje').sum()"
   ]
  },
  {
   "cell_type": "code",
   "execution_count": 369,
   "metadata": {},
   "outputs": [
    {
     "data": {
      "text/html": [
       "<div>\n",
       "<style scoped>\n",
       "    .dataframe tbody tr th:only-of-type {\n",
       "        vertical-align: middle;\n",
       "    }\n",
       "\n",
       "    .dataframe tbody tr th {\n",
       "        vertical-align: top;\n",
       "    }\n",
       "\n",
       "    .dataframe thead th {\n",
       "        text-align: right;\n",
       "    }\n",
       "</style>\n",
       "<table border=\"1\" class=\"dataframe\">\n",
       "  <thead>\n",
       "    <tr style=\"text-align: right;\">\n",
       "      <th></th>\n",
       "      <th>število poti</th>\n",
       "    </tr>\n",
       "    <tr>\n",
       "      <th>gorovje</th>\n",
       "      <th></th>\n",
       "    </tr>\n",
       "  </thead>\n",
       "  <tbody>\n",
       "    <tr>\n",
       "      <td>Julijske Alpe</td>\n",
       "      <td>26</td>\n",
       "    </tr>\n",
       "    <tr>\n",
       "      <td>Kamniško Savinjske Alpe</td>\n",
       "      <td>30</td>\n",
       "    </tr>\n",
       "    <tr>\n",
       "      <td>Karavanke</td>\n",
       "      <td>22</td>\n",
       "    </tr>\n",
       "  </tbody>\n",
       "</table>\n",
       "</div>"
      ],
      "text/plain": [
       "                         število poti\n",
       "gorovje                              \n",
       "Julijske Alpe                      26\n",
       "Kamniško Savinjske Alpe            30\n",
       "Karavanke                          22"
      ]
     },
     "execution_count": 369,
     "metadata": {},
     "output_type": "execute_result"
    }
   ],
   "source": [
    "#največje število poti na goro za določeno gorovje\n",
    "#največ poti vodi na Storžič\n",
    "planinske_tocke[['gorovje', 'število poti']].groupby('gorovje').max()"
   ]
  },
  {
   "cell_type": "code",
   "execution_count": 370,
   "metadata": {},
   "outputs": [
    {
     "data": {
      "text/html": [
       "<div>\n",
       "<style scoped>\n",
       "    .dataframe tbody tr th:only-of-type {\n",
       "        vertical-align: middle;\n",
       "    }\n",
       "\n",
       "    .dataframe tbody tr th {\n",
       "        vertical-align: top;\n",
       "    }\n",
       "\n",
       "    .dataframe thead th {\n",
       "        text-align: right;\n",
       "    }\n",
       "</style>\n",
       "<table border=\"1\" class=\"dataframe\">\n",
       "  <thead>\n",
       "    <tr style=\"text-align: right;\">\n",
       "      <th></th>\n",
       "      <th>ime</th>\n",
       "      <th>število poti</th>\n",
       "    </tr>\n",
       "  </thead>\n",
       "  <tbody>\n",
       "    <tr>\n",
       "      <td>549</td>\n",
       "      <td>Storžič</td>\n",
       "      <td>30</td>\n",
       "    </tr>\n",
       "    <tr>\n",
       "      <td>0</td>\n",
       "      <td>Triglav</td>\n",
       "      <td>26</td>\n",
       "    </tr>\n",
       "    <tr>\n",
       "      <td>591</td>\n",
       "      <td>Mali Grintovec</td>\n",
       "      <td>24</td>\n",
       "    </tr>\n",
       "    <tr>\n",
       "      <td>808</td>\n",
       "      <td>Kordeževa glava (Peca)</td>\n",
       "      <td>22</td>\n",
       "    </tr>\n",
       "    <tr>\n",
       "      <td>149</td>\n",
       "      <td>Viševnik</td>\n",
       "      <td>21</td>\n",
       "    </tr>\n",
       "    <tr>\n",
       "      <td>...</td>\n",
       "      <td>...</td>\n",
       "      <td>...</td>\n",
       "    </tr>\n",
       "    <tr>\n",
       "      <td>530</td>\n",
       "      <td>Tolminska korita</td>\n",
       "      <td>0</td>\n",
       "    </tr>\n",
       "    <tr>\n",
       "      <td>219</td>\n",
       "      <td>Klečica</td>\n",
       "      <td>0</td>\n",
       "    </tr>\n",
       "    <tr>\n",
       "      <td>447</td>\n",
       "      <td>Slap Zaročenca</td>\n",
       "      <td>0</td>\n",
       "    </tr>\n",
       "    <tr>\n",
       "      <td>426</td>\n",
       "      <td>Koča na planini Stador</td>\n",
       "      <td>0</td>\n",
       "    </tr>\n",
       "    <tr>\n",
       "      <td>737</td>\n",
       "      <td>Sveti Ahac (Kališe)</td>\n",
       "      <td>0</td>\n",
       "    </tr>\n",
       "  </tbody>\n",
       "</table>\n",
       "<p>1125 rows × 2 columns</p>\n",
       "</div>"
      ],
      "text/plain": [
       "                        ime  število poti\n",
       "549                 Storžič            30\n",
       "0                   Triglav            26\n",
       "591          Mali Grintovec            24\n",
       "808  Kordeževa glava (Peca)            22\n",
       "149                Viševnik            21\n",
       "..                      ...           ...\n",
       "530        Tolminska korita             0\n",
       "219                 Klečica             0\n",
       "447          Slap Zaročenca             0\n",
       "426  Koča na planini Stador             0\n",
       "737     Sveti Ahac (Kališe)             0\n",
       "\n",
       "[1125 rows x 2 columns]"
      ]
     },
     "execution_count": 370,
     "metadata": {},
     "output_type": "execute_result"
    }
   ],
   "source": [
    "#planinske točke glede na število poti, ki vodijo nanjo\n",
    "planinske_tocke[['ime', 'število poti']].sort_values('število poti', ascending = False)"
   ]
  },
  {
   "cell_type": "code",
   "execution_count": 371,
   "metadata": {},
   "outputs": [
    {
     "data": {
      "text/plain": [
       "število poti    10\n",
       "dtype: int64"
      ]
     },
     "execution_count": 371,
     "metadata": {},
     "output_type": "execute_result"
    }
   ],
   "source": [
    "#Na deset planinskih točk ne vodi nobena \"splošno znana\" pot\n",
    "planinske_tocke[['število poti']][planinske_tocke[['število poti']] == 0].count()"
   ]
  },
  {
   "cell_type": "markdown",
   "metadata": {},
   "source": [
    "Ali največ točk na planinski poti v Alpah predstavljajo vrhovi?\n",
    "----------------------------------------------------------------------------------------\n",
    "Ja, vrhove očitno predstavlja daleč največ planinskih točk. To velja tudi za posamezne dele Alp. Sledijo jim planine, koče in cerkve. \n",
    "\n",
    "Opazimo, da je razkol med vrhovi in ostalimi vrstami najmanjši pri Kamniško Savinjskih Alpah, in da so Julijske Alpe izrazito bolj vodnate.\n"
   ]
  },
  {
   "cell_type": "code",
   "execution_count": 372,
   "metadata": {},
   "outputs": [
    {
     "data": {
      "text/html": [
       "<div>\n",
       "<style scoped>\n",
       "    .dataframe tbody tr th:only-of-type {\n",
       "        vertical-align: middle;\n",
       "    }\n",
       "\n",
       "    .dataframe tbody tr th {\n",
       "        vertical-align: top;\n",
       "    }\n",
       "\n",
       "    .dataframe thead th {\n",
       "        text-align: right;\n",
       "    }\n",
       "</style>\n",
       "<table border=\"1\" class=\"dataframe\">\n",
       "  <thead>\n",
       "    <tr style=\"text-align: right;\">\n",
       "      <th></th>\n",
       "      <th>gorovje</th>\n",
       "      <th>višina (m)</th>\n",
       "      <th>število poti</th>\n",
       "      <th>točka</th>\n",
       "      <th>vrsta</th>\n",
       "    </tr>\n",
       "  </thead>\n",
       "  <tbody>\n",
       "    <tr>\n",
       "      <td>0</td>\n",
       "      <td>Julijske Alpe</td>\n",
       "      <td>2864</td>\n",
       "      <td>26</td>\n",
       "      <td>Triglav</td>\n",
       "      <td>vrh</td>\n",
       "    </tr>\n",
       "    <tr>\n",
       "      <td>1</td>\n",
       "      <td>Julijske Alpe</td>\n",
       "      <td>2864</td>\n",
       "      <td>26</td>\n",
       "      <td>Triglav</td>\n",
       "      <td>bivak</td>\n",
       "    </tr>\n",
       "    <tr>\n",
       "      <td>2</td>\n",
       "      <td>Julijske Alpe</td>\n",
       "      <td>2753</td>\n",
       "      <td>3</td>\n",
       "      <td>Montaž / Jôf di Montasio</td>\n",
       "      <td>vrh</td>\n",
       "    </tr>\n",
       "    <tr>\n",
       "      <td>3</td>\n",
       "      <td>Julijske Alpe</td>\n",
       "      <td>2740</td>\n",
       "      <td>5</td>\n",
       "      <td>Škrlatica</td>\n",
       "      <td>vrh</td>\n",
       "    </tr>\n",
       "    <tr>\n",
       "      <td>4</td>\n",
       "      <td>Julijske Alpe</td>\n",
       "      <td>2725</td>\n",
       "      <td>3</td>\n",
       "      <td>Mali Triglav</td>\n",
       "      <td>vrh</td>\n",
       "    </tr>\n",
       "    <tr>\n",
       "      <td>...</td>\n",
       "      <td>...</td>\n",
       "      <td>...</td>\n",
       "      <td>...</td>\n",
       "      <td>...</td>\n",
       "      <td>...</td>\n",
       "    </tr>\n",
       "    <tr>\n",
       "      <td>1287</td>\n",
       "      <td>Karavanke</td>\n",
       "      <td>511</td>\n",
       "      <td>1</td>\n",
       "      <td>Sveti Donat</td>\n",
       "      <td>cerkev</td>\n",
       "    </tr>\n",
       "    <tr>\n",
       "      <td>1288</td>\n",
       "      <td>Karavanke</td>\n",
       "      <td>500</td>\n",
       "      <td>4</td>\n",
       "      <td>Sveti Mihael na Pečici</td>\n",
       "      <td>cerkev</td>\n",
       "    </tr>\n",
       "    <tr>\n",
       "      <td>1289</td>\n",
       "      <td>Karavanke</td>\n",
       "      <td>435</td>\n",
       "      <td>3</td>\n",
       "      <td>Sveta Barbara v Zagradu</td>\n",
       "      <td>vrh</td>\n",
       "    </tr>\n",
       "    <tr>\n",
       "      <td>1290</td>\n",
       "      <td>Karavanke</td>\n",
       "      <td>435</td>\n",
       "      <td>3</td>\n",
       "      <td>Sveta Barbara v Zagradu</td>\n",
       "      <td>cerkev</td>\n",
       "    </tr>\n",
       "    <tr>\n",
       "      <td>1291</td>\n",
       "      <td>Karavanke</td>\n",
       "      <td>435</td>\n",
       "      <td>1</td>\n",
       "      <td>Sveti Miklavž (Sele)</td>\n",
       "      <td>cerkev</td>\n",
       "    </tr>\n",
       "  </tbody>\n",
       "</table>\n",
       "<p>1292 rows × 5 columns</p>\n",
       "</div>"
      ],
      "text/plain": [
       "            gorovje  višina (m)  število poti                     točka  \\\n",
       "0     Julijske Alpe        2864            26                   Triglav   \n",
       "1     Julijske Alpe        2864            26                   Triglav   \n",
       "2     Julijske Alpe        2753             3  Montaž / Jôf di Montasio   \n",
       "3     Julijske Alpe        2740             5                 Škrlatica   \n",
       "4     Julijske Alpe        2725             3              Mali Triglav   \n",
       "...             ...         ...           ...                       ...   \n",
       "1287      Karavanke         511             1               Sveti Donat   \n",
       "1288      Karavanke         500             4    Sveti Mihael na Pečici   \n",
       "1289      Karavanke         435             3   Sveta Barbara v Zagradu   \n",
       "1290      Karavanke         435             3   Sveta Barbara v Zagradu   \n",
       "1291      Karavanke         435             1      Sveti Miklavž (Sele)   \n",
       "\n",
       "       vrsta  \n",
       "0        vrh  \n",
       "1      bivak  \n",
       "2        vrh  \n",
       "3        vrh  \n",
       "4        vrh  \n",
       "...      ...  \n",
       "1287  cerkev  \n",
       "1288  cerkev  \n",
       "1289     vrh  \n",
       "1290  cerkev  \n",
       "1291  cerkev  \n",
       "\n",
       "[1292 rows x 5 columns]"
      ]
     },
     "execution_count": 372,
     "metadata": {},
     "output_type": "execute_result"
    }
   ],
   "source": [
    "#združimo planinske točke z vsemi vrstami, ki so\n",
    "vrste_tock = pd.merge(planinske_tocke, vrste[~vrste.vrsta.isnull()], left_on = 'ime', right_on = 'točka')[['gorovje', 'višina (m)', 'število poti', 'točka', 'vrsta']]\n",
    "vrste_tock"
   ]
  },
  {
   "cell_type": "code",
   "execution_count": 373,
   "metadata": {},
   "outputs": [
    {
     "data": {
      "text/plain": [
       "vrsta\n",
       "vrh        642\n",
       "planina    218\n",
       "koča       164\n",
       "cerkev      82\n",
       "bivak       66\n",
       "slap        43\n",
       "sedlo       41\n",
       "jezero      36\n",
       "dtype: int64"
      ]
     },
     "execution_count": 373,
     "metadata": {},
     "output_type": "execute_result"
    }
   ],
   "source": [
    "#število posameznih vrst v Alpah\n",
    "vrste_tock.groupby('vrsta').size().sort_values(ascending = False)"
   ]
  },
  {
   "cell_type": "code",
   "execution_count": 374,
   "metadata": {},
   "outputs": [
    {
     "data": {
      "text/plain": [
       "<matplotlib.axes._subplots.AxesSubplot at 0x1805bea73c8>"
      ]
     },
     "execution_count": 374,
     "metadata": {},
     "output_type": "execute_result"
    },
    {
     "data": {
      "image/png": "[encoded data removed]",
      "text/plain": [
       "<Figure size 432x288 with 1 Axes>"
      ]
     },
     "metadata": {
      "needs_background": "light"
     },
     "output_type": "display_data"
    }
   ],
   "source": [
    "#še graf\n",
    "vrste_tock.groupby('vrsta').size().sort_values(ascending = False).plot.bar()"
   ]
  },
  {
   "cell_type": "code",
   "execution_count": 375,
   "metadata": {},
   "outputs": [
    {
     "data": {
      "text/plain": [
       "gorovje\n",
       "Julijske Alpe              309\n",
       "Kamniško Savinjske Alpe    144\n",
       "Karavanke                  189\n",
       "dtype: int64"
      ]
     },
     "execution_count": 375,
     "metadata": {},
     "output_type": "execute_result"
    }
   ],
   "source": [
    "#število vrhov na gorovje\n",
    "vrste_tock[vrste_tock.vrsta == 'vrh'].groupby('gorovje').size()"
   ]
  },
  {
   "cell_type": "code",
   "execution_count": 376,
   "metadata": {},
   "outputs": [
    {
     "data": {
      "text/plain": [
       "vrsta   gorovje                \n",
       "bivak   Julijske Alpe               44\n",
       "        Kamniško Savinjske Alpe     16\n",
       "        Karavanke                    6\n",
       "cerkev  Julijske Alpe               19\n",
       "        Kamniško Savinjske Alpe     34\n",
       "                                  ... \n",
       "slap    Kamniško Savinjske Alpe      7\n",
       "        Karavanke                    9\n",
       "vrh     Julijske Alpe              309\n",
       "        Kamniško Savinjske Alpe    144\n",
       "        Karavanke                  189\n",
       "Length: 24, dtype: int64"
      ]
     },
     "execution_count": 376,
     "metadata": {},
     "output_type": "execute_result"
    }
   ],
   "source": [
    "#število planinskih točk posamezne vrste na gorovje\n",
    "vrste_tock[['gorovje', 'vrsta']].groupby(['vrsta', 'gorovje']).size()"
   ]
  },
  {
   "cell_type": "code",
   "execution_count": 377,
   "metadata": {},
   "outputs": [
    {
     "data": {
      "text/plain": [
       "<matplotlib.axes._subplots.AxesSubplot at 0x1805cfffbe0>"
      ]
     },
     "execution_count": 377,
     "metadata": {},
     "output_type": "execute_result"
    },
    {
     "data": {
      "image/png": "[encoded data removed]",
      "text/plain": [
       "<Figure size 432x288 with 1 Axes>"
      ]
     },
     "metadata": {
      "needs_background": "light"
     },
     "output_type": "display_data"
    }
   ],
   "source": [
    "#vrhovi na gorovje\n",
    "vrste_tock[vrste_tock.vrsta == 'vrh'][['gorovje', 'vrsta']].groupby('gorovje').size().plot.bar()"
   ]
  },
  {
   "cell_type": "code",
   "execution_count": 39,
   "metadata": {},
   "outputs": [
    {
     "data": {
      "text/plain": [
       "vrsta\n",
       "vrh        309\n",
       "planina     86\n",
       "koča        65\n",
       "bivak       44\n",
       "slap        27\n",
       "jezero      26\n",
       "cerkev      19\n",
       "sedlo       14\n",
       "dtype: int64"
      ]
     },
     "execution_count": 39,
     "metadata": {},
     "output_type": "execute_result"
    }
   ],
   "source": [
    "#število posameznih vrst za Julijce\n",
    "vrste_tock[vrste_tock.gorovje == 'Julijske Alpe'].groupby('vrsta').size().sort_values(ascending = False)"
   ]
  },
  {
   "cell_type": "code",
   "execution_count": 40,
   "metadata": {},
   "outputs": [
    {
     "data": {
      "text/plain": [
       "<matplotlib.axes._subplots.AxesSubplot at 0x1804ec52c50>"
      ]
     },
     "execution_count": 40,
     "metadata": {},
     "output_type": "execute_result"
    },
    {
     "data": {
      "image/png": "[encoded data removed]",
      "text/plain": [
       "<Figure size 432x288 with 1 Axes>"
      ]
     },
     "metadata": {
      "needs_background": "light"
     },
     "output_type": "display_data"
    }
   ],
   "source": [
    "vrste_tock[vrste_tock.gorovje == 'Julijske Alpe'].groupby('vrsta').size().sort_values(ascending = False).plot.bar()"
   ]
  },
  {
   "cell_type": "code",
   "execution_count": 378,
   "metadata": {},
   "outputs": [
    {
     "data": {
      "text/plain": [
       "vrsta\n",
       "vrh        144\n",
       "planina     71\n",
       "koča        53\n",
       "cerkev      34\n",
       "bivak       16\n",
       "sedlo       12\n",
       "slap         7\n",
       "jezero       6\n",
       "dtype: int64"
      ]
     },
     "execution_count": 378,
     "metadata": {},
     "output_type": "execute_result"
    }
   ],
   "source": [
    "#za Kamniške Alpe\n",
    "vrste_tock[vrste_tock.gorovje == 'Kamniško Savinjske Alpe'].groupby('vrsta').size().sort_values(ascending = False)"
   ]
  },
  {
   "cell_type": "code",
   "execution_count": 42,
   "metadata": {},
   "outputs": [
    {
     "data": {
      "text/plain": [
       "<matplotlib.axes._subplots.AxesSubplot at 0x1804ecdf0f0>"
      ]
     },
     "execution_count": 42,
     "metadata": {},
     "output_type": "execute_result"
    },
    {
     "data": {
      "image/png": "[encoded data removed]",
      "text/plain": [
       "<Figure size 432x288 with 1 Axes>"
      ]
     },
     "metadata": {
      "needs_background": "light"
     },
     "output_type": "display_data"
    }
   ],
   "source": [
    "vrste_tock[vrste_tock.gorovje == 'Kamniško Savinjske Alpe'].groupby('vrsta').size().sort_values(ascending = False).plot.bar()"
   ]
  },
  {
   "cell_type": "code",
   "execution_count": 379,
   "metadata": {},
   "outputs": [
    {
     "data": {
      "text/plain": [
       "vrsta\n",
       "vrh        189\n",
       "planina     61\n",
       "koča        46\n",
       "cerkev      29\n",
       "sedlo       15\n",
       "slap         9\n",
       "bivak        6\n",
       "jezero       4\n",
       "dtype: int64"
      ]
     },
     "execution_count": 379,
     "metadata": {},
     "output_type": "execute_result"
    }
   ],
   "source": [
    "#za Karavanke\n",
    "vrste_tock[vrste_tock.gorovje == 'Karavanke'].groupby('vrsta').size().sort_values(ascending = False)"
   ]
  },
  {
   "cell_type": "code",
   "execution_count": 44,
   "metadata": {},
   "outputs": [
    {
     "data": {
      "text/plain": [
       "<matplotlib.axes._subplots.AxesSubplot at 0x1804ed4a080>"
      ]
     },
     "execution_count": 44,
     "metadata": {},
     "output_type": "execute_result"
    },
    {
     "data": {
      "image/png": "[encoded data removed]",
      "text/plain": [
       "<Figure size 432x288 with 1 Axes>"
      ]
     },
     "metadata": {
      "needs_background": "light"
     },
     "output_type": "display_data"
    }
   ],
   "source": [
    "vrste_tock[vrste_tock.gorovje == 'Karavanke'].groupby('vrsta').size().sort_values(ascending = False).plot.bar()"
   ]
  },
  {
   "cell_type": "markdown",
   "metadata": {},
   "source": [
    "Ali je število poti in ogledov povezanih s priljubljenostjo planinske točke?\n",
    "----------------------------------------------------------------------------------------------------------\n",
    "\n",
    "Opomba: Mesta priljubljenosti segajo preko števila planinskih točk v Alpah, saj je spletna stran upoštevala vso Slovenijo.\n",
    "\n",
    "Prvi graf nam pove, da število poti v splošnem ni povezano s priljubljenostjo. Res pa je, da je razlika vidna, če primerjamo recimo prvih petsto najbolj priljubljenih lokacij z ostalimi. Pri večini povprečje poti ostaja enako, jih je pa kar nekaj, ki imajo veliko več poti. Natančneje, pri prvih petstotih najbolj priljubljenih lokacij je posprečje poti na eno planinsko točko enako pet poti, pri ostalih pa le dve.\n",
    "\n",
    "Graf, ki kaže povezavo med priljubljenostjo lokacije in njenim številom ogledov na strani je veliko bolj jasen, skorajda lepo zvezen in padajoč. Pri prvih dvestotih najpriljubljenih lokacijah zelo hitro narašča, torej se število ogledov s priljubljenostjo hitro veča. Seveda v svoji nezveznosti močno izstopa Triglav. Skoraj do konca je graf približno linearen, torej ogledi naraščajo linearno s priljubljenostjo. Na koncu se graf prevesi v konstanto. Od 2000. mesta dalje so torej vse planinske točke deležne enake pozornosti."
   ]
  },
  {
   "cell_type": "code",
   "execution_count": 380,
   "metadata": {},
   "outputs": [
    {
     "data": {
      "text/plain": [
       "<matplotlib.axes._subplots.AxesSubplot at 0x1805d051be0>"
      ]
     },
     "execution_count": 380,
     "metadata": {},
     "output_type": "execute_result"
    },
    {
     "data": {
      "image/png": "[encoded data removed]",
      "text/plain": [
       "<Figure size 432x288 with 1 Axes>"
      ]
     },
     "metadata": {
      "needs_background": "light"
     },
     "output_type": "display_data"
    }
   ],
   "source": [
    "#število poti glede na priljubljenost\n",
    "planinske_tocke[['število poti', 'priljubljenost (mesto)']].plot.scatter('priljubljenost (mesto)', 'število poti')"
   ]
  },
  {
   "cell_type": "code",
   "execution_count": 381,
   "metadata": {},
   "outputs": [
    {
     "data": {
      "text/plain": [
       "priljubljenost (mesto)    348.0\n",
       "število poti                5.0\n",
       "dtype: float64"
      ]
     },
     "execution_count": 381,
     "metadata": {},
     "output_type": "execute_result"
    }
   ],
   "source": [
    "#poti_tocke = planinske_tocke[['število poti', 'priljubljenost (mesto)']].groupby('priljubljenost (mesto)')\n",
    "#poti_tocke['območje_priljubljenosti'] = if poti_tocke[['priljubljenost (mesto']] <= 499 then 500 else (100 * (poti_tocke[['priljubljenost (mesto)']].apply(int()) // 100))\n",
    "#poti_tocke = pd.merge\n",
    "\n",
    "#!!!NE DELA!!! :( IDEJA: razdelimo točke glede na priljubljenost - prvih 500, drugih 500 ... in izračunam povprečje števila poti. Ne gre => poskusim z rezinami\n",
    "\n",
    "\n",
    "#povprečno število poti za 500 najbolj priljubljenih točk - spodaj sledijo nadaljne rezine po 500 \n",
    "planinske_tocke[['ime', 'priljubljenost (mesto)', 'število poti']].sort_values('priljubljenost (mesto)', ascending = True)[0:500].mean().round()"
   ]
  },
  {
   "cell_type": "code",
   "execution_count": 69,
   "metadata": {},
   "outputs": [
    {
     "data": {
      "text/plain": [
       "priljubljenost (mesto)    1293.0\n",
       "število poti                 2.0\n",
       "dtype: float64"
      ]
     },
     "execution_count": 69,
     "metadata": {},
     "output_type": "execute_result"
    }
   ],
   "source": [
    "planinske_tocke[['ime', 'priljubljenost (mesto)', 'število poti']].sort_values('priljubljenost (mesto)', ascending = True)[500:1000].mean().round()"
   ]
  },
  {
   "cell_type": "code",
   "execution_count": 70,
   "metadata": {},
   "outputs": [
    {
     "data": {
      "text/plain": [
       "priljubljenost (mesto)    2386.0\n",
       "število poti                 2.0\n",
       "dtype: float64"
      ]
     },
     "execution_count": 70,
     "metadata": {},
     "output_type": "execute_result"
    }
   ],
   "source": [
    "planinske_tocke[['ime', 'priljubljenost (mesto)', 'število poti']].sort_values('priljubljenost (mesto)', ascending = True)[1000:1500].mean().round()"
   ]
  },
  {
   "cell_type": "code",
   "execution_count": 61,
   "metadata": {},
   "outputs": [
    {
     "data": {
      "text/plain": [
       "<matplotlib.axes._subplots.AxesSubplot at 0x1804eff3400>"
      ]
     },
     "execution_count": 61,
     "metadata": {},
     "output_type": "execute_result"
    },
    {
     "data": {
      "image/png": "[encoded data removed]",
      "text/plain": [
       "<Figure size 432x288 with 1 Axes>"
      ]
     },
     "metadata": {
      "needs_background": "light"
     },
     "output_type": "display_data"
    }
   ],
   "source": [
    "#število ogledov glede na priljubljenost\n",
    "planinske_tocke[['število ogledov', 'priljubljenost (mesto)']].plot.scatter('priljubljenost (mesto)', 'število ogledov')"
   ]
  },
  {
   "cell_type": "code",
   "execution_count": 74,
   "metadata": {
    "scrolled": false
   },
   "outputs": [
    {
     "data": {
      "text/plain": [
       "<matplotlib.axes._subplots.AxesSubplot at 0x1804f1bfb70>"
      ]
     },
     "execution_count": 74,
     "metadata": {},
     "output_type": "execute_result"
    },
    {
     "data": {
      "image/png": "[encoded data removed]",
      "text/plain": [
       "<Figure size 432x288 with 1 Axes>"
      ]
     },
     "metadata": {
      "needs_background": "light"
     },
     "output_type": "display_data"
    }
   ],
   "source": [
    "planinske_tocke[['število ogledov', 'priljubljenost (mesto)']].plot('priljubljenost (mesto)', 'število ogledov')"
   ]
  },
  {
   "cell_type": "markdown",
   "metadata": {},
   "source": [
    "Ali je priljubljenost obiskov planinske točke povezana s številom gor v okolici?\n",
    "-----------------------------------------------------------------------------------------------------------------\n",
    "Graf ne kaže nobene povezanosti med tema dvema spremenljivkama."
   ]
  },
  {
   "cell_type": "code",
   "execution_count": 382,
   "metadata": {},
   "outputs": [
    {
     "data": {
      "text/plain": [
       "<matplotlib.axes._subplots.AxesSubplot at 0x1805d0a26d8>"
      ]
     },
     "execution_count": 382,
     "metadata": {},
     "output_type": "execute_result"
    },
    {
     "data": {
      "image/png": "[encoded data removed]",
      "text/plain": [
       "<Figure size 432x288 with 1 Axes>"
      ]
     },
     "metadata": {
      "needs_background": "light"
     },
     "output_type": "display_data"
    }
   ],
   "source": [
    "#višina točke glede na njeno priljubljenost\n",
    "planinske_tocke[['višina (m)', 'priljubljenost (mesto)']].plot.scatter('priljubljenost (mesto)', 'višina (m)')"
   ]
  },
  {
   "cell_type": "markdown",
   "metadata": {},
   "source": [
    "Ali je priljubljenost povezana z vrsto planinske točke?\n",
    "------------------------------------------------------------------------------\n",
    "Spodaj so prikazana povprečja mest glede na priljubljenost za posamezno vrsto. Kot pričakovano so koče seveda najbolj priljubljena destinacija. "
   ]
  },
  {
   "cell_type": "code",
   "execution_count": 383,
   "metadata": {},
   "outputs": [
    {
     "data": {
      "text/html": [
       "<div>\n",
       "<style scoped>\n",
       "    .dataframe tbody tr th:only-of-type {\n",
       "        vertical-align: middle;\n",
       "    }\n",
       "\n",
       "    .dataframe tbody tr th {\n",
       "        vertical-align: top;\n",
       "    }\n",
       "\n",
       "    .dataframe thead th {\n",
       "        text-align: right;\n",
       "    }\n",
       "</style>\n",
       "<table border=\"1\" class=\"dataframe\">\n",
       "  <thead>\n",
       "    <tr style=\"text-align: right;\">\n",
       "      <th></th>\n",
       "      <th>priljubljenost (mesto)</th>\n",
       "    </tr>\n",
       "    <tr>\n",
       "      <th>vrsta</th>\n",
       "      <th></th>\n",
       "    </tr>\n",
       "  </thead>\n",
       "  <tbody>\n",
       "    <tr>\n",
       "      <td>koča</td>\n",
       "      <td>679.0</td>\n",
       "    </tr>\n",
       "    <tr>\n",
       "      <td>bivak</td>\n",
       "      <td>718.0</td>\n",
       "    </tr>\n",
       "    <tr>\n",
       "      <td>sedlo</td>\n",
       "      <td>891.0</td>\n",
       "    </tr>\n",
       "    <tr>\n",
       "      <td>vrh</td>\n",
       "      <td>929.0</td>\n",
       "    </tr>\n",
       "    <tr>\n",
       "      <td>planina</td>\n",
       "      <td>985.0</td>\n",
       "    </tr>\n",
       "    <tr>\n",
       "      <td>jezero</td>\n",
       "      <td>1030.0</td>\n",
       "    </tr>\n",
       "    <tr>\n",
       "      <td>slap</td>\n",
       "      <td>1168.0</td>\n",
       "    </tr>\n",
       "    <tr>\n",
       "      <td>cerkev</td>\n",
       "      <td>1268.0</td>\n",
       "    </tr>\n",
       "  </tbody>\n",
       "</table>\n",
       "</div>"
      ],
      "text/plain": [
       "         priljubljenost (mesto)\n",
       "vrsta                          \n",
       "koča                      679.0\n",
       "bivak                     718.0\n",
       "sedlo                     891.0\n",
       "vrh                       929.0\n",
       "planina                   985.0\n",
       "jezero                   1030.0\n",
       "slap                     1168.0\n",
       "cerkev                   1268.0"
      ]
     },
     "execution_count": 383,
     "metadata": {},
     "output_type": "execute_result"
    }
   ],
   "source": [
    "#povprečno mesto priljubljenosti za določeno vrsto točke\n",
    "vrste_priljubljenost = pd.merge(planinske_tocke, vrste[~vrste.vrsta.isnull()], left_on = 'ime', right_on = 'točka')[['vrsta', 'priljubljenost (mesto)']]\n",
    "vrste_priljubljenost.groupby('vrsta').mean().sort_values('priljubljenost (mesto)', ascending = True).round() #apply(int())"
   ]
  },
  {
   "cell_type": "code",
   "execution_count": 384,
   "metadata": {},
   "outputs": [
    {
     "data": {
      "text/plain": [
       "<matplotlib.axes._subplots.AxesSubplot at 0x1805d11a9e8>"
      ]
     },
     "execution_count": 384,
     "metadata": {},
     "output_type": "execute_result"
    },
    {
     "data": {
      "image/png": "[encoded data removed]",
      "text/plain": [
       "<Figure size 432x288 with 1 Axes>"
      ]
     },
     "metadata": {
      "needs_background": "light"
     },
     "output_type": "display_data"
    }
   ],
   "source": [
    "#še graf za zgornjo tabelo\n",
    "vrste_priljubljenost.groupby('vrsta').mean().sort_values('priljubljenost (mesto)', ascending = True).plot.bar()"
   ]
  },
  {
   "cell_type": "markdown",
   "metadata": {},
   "source": [
    "Ali je priljubljenost povezana z višino točke? \n",
    "----------------------------------------------------------------\n",
    "V splošnem niti ne, čeprav lahko opazimo večinoma neenakomerno padanje priljubljenosti s padanjem višine.\n"
   ]
  },
  {
   "cell_type": "code",
   "execution_count": 201,
   "metadata": {},
   "outputs": [
    {
     "data": {
      "text/html": [
       "<div>\n",
       "<style scoped>\n",
       "    .dataframe tbody tr th:only-of-type {\n",
       "        vertical-align: middle;\n",
       "    }\n",
       "\n",
       "    .dataframe tbody tr th {\n",
       "        vertical-align: top;\n",
       "    }\n",
       "\n",
       "    .dataframe thead th {\n",
       "        text-align: right;\n",
       "    }\n",
       "</style>\n",
       "<table border=\"1\" class=\"dataframe\">\n",
       "  <thead>\n",
       "    <tr style=\"text-align: right;\">\n",
       "      <th></th>\n",
       "      <th>ime</th>\n",
       "      <th>ime bližnje točke</th>\n",
       "      <th>višina (m)</th>\n",
       "      <th>zaokrožena višina</th>\n",
       "      <th>višina bližnje točke (m)</th>\n",
       "      <th>priljubljenost (mesto)</th>\n",
       "    </tr>\n",
       "  </thead>\n",
       "  <tbody>\n",
       "    <tr>\n",
       "      <td>0</td>\n",
       "      <td>Triglav</td>\n",
       "      <td>Mali Triglav</td>\n",
       "      <td>2864</td>\n",
       "      <td>2800</td>\n",
       "      <td>2725</td>\n",
       "      <td>1</td>\n",
       "    </tr>\n",
       "    <tr>\n",
       "      <td>1</td>\n",
       "      <td>Triglav</td>\n",
       "      <td>Glava v Zaplanji</td>\n",
       "      <td>2864</td>\n",
       "      <td>2800</td>\n",
       "      <td>2556</td>\n",
       "      <td>1</td>\n",
       "    </tr>\n",
       "    <tr>\n",
       "      <td>2</td>\n",
       "      <td>Triglav</td>\n",
       "      <td>Kredarica</td>\n",
       "      <td>2864</td>\n",
       "      <td>2800</td>\n",
       "      <td>2541</td>\n",
       "      <td>1</td>\n",
       "    </tr>\n",
       "    <tr>\n",
       "      <td>3</td>\n",
       "      <td>Triglav</td>\n",
       "      <td>Rž</td>\n",
       "      <td>2864</td>\n",
       "      <td>2800</td>\n",
       "      <td>2538</td>\n",
       "      <td>1</td>\n",
       "    </tr>\n",
       "    <tr>\n",
       "      <td>4</td>\n",
       "      <td>Triglav</td>\n",
       "      <td>Morbegna</td>\n",
       "      <td>2864</td>\n",
       "      <td>2800</td>\n",
       "      <td>2520</td>\n",
       "      <td>1</td>\n",
       "    </tr>\n",
       "    <tr>\n",
       "      <td>...</td>\n",
       "      <td>...</td>\n",
       "      <td>...</td>\n",
       "      <td>...</td>\n",
       "      <td>...</td>\n",
       "      <td>...</td>\n",
       "      <td>...</td>\n",
       "    </tr>\n",
       "    <tr>\n",
       "      <td>6588</td>\n",
       "      <td>Sveti Miklavž (Sele)</td>\n",
       "      <td>Sveti Rok (Sele)</td>\n",
       "      <td>435</td>\n",
       "      <td>400</td>\n",
       "      <td>582</td>\n",
       "      <td>2608</td>\n",
       "    </tr>\n",
       "    <tr>\n",
       "      <td>6589</td>\n",
       "      <td>Zbelovski grad</td>\n",
       "      <td>Ljubična gora</td>\n",
       "      <td>400</td>\n",
       "      <td>400</td>\n",
       "      <td>533</td>\n",
       "      <td>1678</td>\n",
       "    </tr>\n",
       "    <tr>\n",
       "      <td>6590</td>\n",
       "      <td>Studeniški grad</td>\n",
       "      <td>Boč</td>\n",
       "      <td>315</td>\n",
       "      <td>300</td>\n",
       "      <td>978</td>\n",
       "      <td>1489</td>\n",
       "    </tr>\n",
       "    <tr>\n",
       "      <td>6591</td>\n",
       "      <td>Studeniški grad</td>\n",
       "      <td>Formila na Boču</td>\n",
       "      <td>315</td>\n",
       "      <td>300</td>\n",
       "      <td>624</td>\n",
       "      <td>1489</td>\n",
       "    </tr>\n",
       "    <tr>\n",
       "      <td>6592</td>\n",
       "      <td>Studeniški grad</td>\n",
       "      <td>Sveta Lucija nad Studenicami</td>\n",
       "      <td>315</td>\n",
       "      <td>300</td>\n",
       "      <td>290</td>\n",
       "      <td>1489</td>\n",
       "    </tr>\n",
       "  </tbody>\n",
       "</table>\n",
       "<p>6593 rows × 6 columns</p>\n",
       "</div>"
      ],
      "text/plain": [
       "                       ime             ime bližnje točke  višina (m)  \\\n",
       "0                  Triglav                  Mali Triglav        2864   \n",
       "1                  Triglav              Glava v Zaplanji        2864   \n",
       "2                  Triglav                     Kredarica        2864   \n",
       "3                  Triglav                            Rž        2864   \n",
       "4                  Triglav                      Morbegna        2864   \n",
       "...                    ...                           ...         ...   \n",
       "6588  Sveti Miklavž (Sele)              Sveti Rok (Sele)         435   \n",
       "6589        Zbelovski grad                 Ljubična gora         400   \n",
       "6590       Studeniški grad                           Boč         315   \n",
       "6591       Studeniški grad               Formila na Boču         315   \n",
       "6592       Studeniški grad  Sveta Lucija nad Studenicami         315   \n",
       "\n",
       "      zaokrožena višina  višina bližnje točke (m)  priljubljenost (mesto)  \n",
       "0                  2800                      2725                       1  \n",
       "1                  2800                      2556                       1  \n",
       "2                  2800                      2541                       1  \n",
       "3                  2800                      2538                       1  \n",
       "4                  2800                      2520                       1  \n",
       "...                 ...                       ...                     ...  \n",
       "6588                400                       582                    2608  \n",
       "6589                400                       533                    1678  \n",
       "6590                300                       978                    1489  \n",
       "6591                300                       624                    1489  \n",
       "6592                300                       290                    1489  \n",
       "\n",
       "[6593 rows x 6 columns]"
      ]
     },
     "execution_count": 201,
     "metadata": {},
     "output_type": "execute_result"
    }
   ],
   "source": [
    "#združimo točke z njihovimi bližnjimi točkami\n",
    "visine_priljubljenost = pd.merge(planinske_tocke, bliznje_tocke[~bliznje_tocke.isnull()], left_on = 'ime', right_on = 'ime planinske točke')[['ime','ime bližnje točke', 'višina (m)', 'zaokrožena višina','višina bližnje točke (m)', 'priljubljenost (mesto)']]\n",
    "visine_priljubljenost"
   ]
  },
  {
   "cell_type": "code",
   "execution_count": 385,
   "metadata": {},
   "outputs": [
    {
     "data": {
      "text/plain": [
       "<matplotlib.axes._subplots.AxesSubplot at 0x1805d194128>"
      ]
     },
     "execution_count": 385,
     "metadata": {},
     "output_type": "execute_result"
    },
    {
     "data": {
      "image/png": "[encoded data removed]",
      "text/plain": [
       "<Figure size 432x288 with 1 Axes>"
      ]
     },
     "metadata": {
      "needs_background": "light"
     },
     "output_type": "display_data"
    }
   ],
   "source": [
    "#priljubljenost glede na višino\n",
    "visine_priljubljenost[['višina (m)', 'priljubljenost (mesto)']].plot.scatter('višina (m)', 'priljubljenost (mesto)')"
   ]
  },
  {
   "cell_type": "code",
   "execution_count": 386,
   "metadata": {},
   "outputs": [
    {
     "data": {
      "text/html": [
       "<div>\n",
       "<style scoped>\n",
       "    .dataframe tbody tr th:only-of-type {\n",
       "        vertical-align: middle;\n",
       "    }\n",
       "\n",
       "    .dataframe tbody tr th {\n",
       "        vertical-align: top;\n",
       "    }\n",
       "\n",
       "    .dataframe thead th {\n",
       "        text-align: right;\n",
       "    }\n",
       "</style>\n",
       "<table border=\"1\" class=\"dataframe\">\n",
       "  <thead>\n",
       "    <tr style=\"text-align: right;\">\n",
       "      <th></th>\n",
       "      <th>priljubljenost (mesto)</th>\n",
       "    </tr>\n",
       "    <tr>\n",
       "      <th>zaokrožena višina</th>\n",
       "      <th></th>\n",
       "    </tr>\n",
       "  </thead>\n",
       "  <tbody>\n",
       "    <tr>\n",
       "      <td>100</td>\n",
       "      <td>516.0</td>\n",
       "    </tr>\n",
       "    <tr>\n",
       "      <td>200</td>\n",
       "      <td>744.0</td>\n",
       "    </tr>\n",
       "    <tr>\n",
       "      <td>300</td>\n",
       "      <td>1489.0</td>\n",
       "    </tr>\n",
       "    <tr>\n",
       "      <td>400</td>\n",
       "      <td>1331.0</td>\n",
       "    </tr>\n",
       "    <tr>\n",
       "      <td>500</td>\n",
       "      <td>1371.0</td>\n",
       "    </tr>\n",
       "    <tr>\n",
       "      <td>...</td>\n",
       "      <td>...</td>\n",
       "    </tr>\n",
       "    <tr>\n",
       "      <td>2400</td>\n",
       "      <td>577.0</td>\n",
       "    </tr>\n",
       "    <tr>\n",
       "      <td>2500</td>\n",
       "      <td>368.0</td>\n",
       "    </tr>\n",
       "    <tr>\n",
       "      <td>2600</td>\n",
       "      <td>186.0</td>\n",
       "    </tr>\n",
       "    <tr>\n",
       "      <td>2700</td>\n",
       "      <td>104.0</td>\n",
       "    </tr>\n",
       "    <tr>\n",
       "      <td>2800</td>\n",
       "      <td>1.0</td>\n",
       "    </tr>\n",
       "  </tbody>\n",
       "</table>\n",
       "<p>28 rows × 1 columns</p>\n",
       "</div>"
      ],
      "text/plain": [
       "                   priljubljenost (mesto)\n",
       "zaokrožena višina                        \n",
       "100                                 516.0\n",
       "200                                 744.0\n",
       "300                                1489.0\n",
       "400                                1331.0\n",
       "500                                1371.0\n",
       "...                                   ...\n",
       "2400                                577.0\n",
       "2500                                368.0\n",
       "2600                                186.0\n",
       "2700                                104.0\n",
       "2800                                  1.0\n",
       "\n",
       "[28 rows x 1 columns]"
      ]
     },
     "execution_count": 386,
     "metadata": {},
     "output_type": "execute_result"
    }
   ],
   "source": [
    "#povprečno mesto priljubljenosti za posamezno zaokroženo višino\n",
    "visine_priljubljenost.groupby('zaokrožena višina')[['priljubljenost (mesto)']].mean().round()"
   ]
  },
  {
   "cell_type": "code",
   "execution_count": 387,
   "metadata": {},
   "outputs": [
    {
     "data": {
      "text/plain": [
       "<matplotlib.axes._subplots.AxesSubplot at 0x1805d1faa20>"
      ]
     },
     "execution_count": 387,
     "metadata": {},
     "output_type": "execute_result"
    },
    {
     "data": {
      "image/png": "[encoded data removed]",
      "text/plain": [
       "<Figure size 432x288 with 1 Axes>"
      ]
     },
     "metadata": {
      "needs_background": "light"
     },
     "output_type": "display_data"
    }
   ],
   "source": [
    "#še graf za zgornjo tabelo\n",
    "visine_priljubljenost.groupby('zaokrožena višina')[['priljubljenost (mesto)']].mean().round().plot.bar()"
   ]
  },
  {
   "cell_type": "markdown",
   "metadata": {},
   "source": [
    "Ali je višina planinske točke povezana z višinami bližnjih?\n",
    "-----------------------------------------------------------------------------------\n",
    "(hipoteza zastavljena dodatno - še neuspelo rešena :( )"
   ]
  },
  {
   "cell_type": "code",
   "execution_count": 253,
   "metadata": {},
   "outputs": [
    {
     "data": {
      "text/html": [
       "<div>\n",
       "<style scoped>\n",
       "    .dataframe tbody tr th:only-of-type {\n",
       "        vertical-align: middle;\n",
       "    }\n",
       "\n",
       "    .dataframe tbody tr th {\n",
       "        vertical-align: top;\n",
       "    }\n",
       "\n",
       "    .dataframe thead th {\n",
       "        text-align: right;\n",
       "    }\n",
       "</style>\n",
       "<table border=\"1\" class=\"dataframe\">\n",
       "  <thead>\n",
       "    <tr style=\"text-align: right;\">\n",
       "      <th></th>\n",
       "      <th>ime</th>\n",
       "      <th>višina (m)</th>\n",
       "      <th>povprečje višin bližnjih točk</th>\n",
       "    </tr>\n",
       "  </thead>\n",
       "  <tbody>\n",
       "    <tr>\n",
       "      <td>0</td>\n",
       "      <td>Triglav</td>\n",
       "      <td>2864</td>\n",
       "      <td>NaN</td>\n",
       "    </tr>\n",
       "    <tr>\n",
       "      <td>1</td>\n",
       "      <td>Triglav</td>\n",
       "      <td>2864</td>\n",
       "      <td>NaN</td>\n",
       "    </tr>\n",
       "    <tr>\n",
       "      <td>2</td>\n",
       "      <td>Triglav</td>\n",
       "      <td>2864</td>\n",
       "      <td>NaN</td>\n",
       "    </tr>\n",
       "    <tr>\n",
       "      <td>3</td>\n",
       "      <td>Triglav</td>\n",
       "      <td>2864</td>\n",
       "      <td>NaN</td>\n",
       "    </tr>\n",
       "    <tr>\n",
       "      <td>4</td>\n",
       "      <td>Triglav</td>\n",
       "      <td>2864</td>\n",
       "      <td>NaN</td>\n",
       "    </tr>\n",
       "    <tr>\n",
       "      <td>...</td>\n",
       "      <td>...</td>\n",
       "      <td>...</td>\n",
       "      <td>...</td>\n",
       "    </tr>\n",
       "    <tr>\n",
       "      <td>6588</td>\n",
       "      <td>Sveti Miklavž (Sele)</td>\n",
       "      <td>435</td>\n",
       "      <td>NaN</td>\n",
       "    </tr>\n",
       "    <tr>\n",
       "      <td>6589</td>\n",
       "      <td>Zbelovski grad</td>\n",
       "      <td>400</td>\n",
       "      <td>NaN</td>\n",
       "    </tr>\n",
       "    <tr>\n",
       "      <td>6590</td>\n",
       "      <td>Studeniški grad</td>\n",
       "      <td>315</td>\n",
       "      <td>NaN</td>\n",
       "    </tr>\n",
       "    <tr>\n",
       "      <td>6591</td>\n",
       "      <td>Studeniški grad</td>\n",
       "      <td>315</td>\n",
       "      <td>NaN</td>\n",
       "    </tr>\n",
       "    <tr>\n",
       "      <td>6592</td>\n",
       "      <td>Studeniški grad</td>\n",
       "      <td>315</td>\n",
       "      <td>NaN</td>\n",
       "    </tr>\n",
       "  </tbody>\n",
       "</table>\n",
       "<p>6593 rows × 3 columns</p>\n",
       "</div>"
      ],
      "text/plain": [
       "                       ime  višina (m)  povprečje višin bližnjih točk\n",
       "0                  Triglav        2864                            NaN\n",
       "1                  Triglav        2864                            NaN\n",
       "2                  Triglav        2864                            NaN\n",
       "3                  Triglav        2864                            NaN\n",
       "4                  Triglav        2864                            NaN\n",
       "...                    ...         ...                            ...\n",
       "6588  Sveti Miklavž (Sele)         435                            NaN\n",
       "6589        Zbelovski grad         400                            NaN\n",
       "6590       Studeniški grad         315                            NaN\n",
       "6591       Studeniški grad         315                            NaN\n",
       "6592       Studeniški grad         315                            NaN\n",
       "\n",
       "[6593 rows x 3 columns]"
      ]
     },
     "execution_count": 253,
     "metadata": {},
     "output_type": "execute_result"
    }
   ],
   "source": [
    "tocka = pd.merge(planinske_tocke, bliznje_tocke, left_on = 'ime', right_on = 'ime planinske točke')[['ime', 'višina (m)']] #[['višina bližnje točke (m)']].mean().round()\n",
    "povp_bliznje = visine_priljubljenost.groupby('ime')[['ime', 'višina bližnje točke (m)']].median()[ : ]\n",
    "\n",
    "#visine_povprecje_bliznjih = pd.merge(tocka, povp_bliznje)\n",
    "\n",
    "#visine_povprecje_bliznjih = pd.merge(\n",
    "#visine_priljubljenost.groupby('ime')[['višina (m)', 'višina bližnje točke (m)']].head(),\n",
    "#visine_priljubljenost.groupby('ime')[['višina bližnje točke (m)']].mean().head().round())\n",
    "\n",
    "\n",
    "\n",
    "#visine_z_bliznjimi = pd.merge(tocka, povp_bliznje, left_on = 'ime', right_on = 'ime')\n",
    "#visine_z_bliznjimi.groupby('ime').head()\n",
    "#visine_priljubljenost\n",
    "\n",
    "#tocka['povprečje višin bližnjih točk'] = visine_priljubljenost.groupby('ime')[['ime', 'višina bližnje točke (m)']].mean().round()\n",
    "\n",
    "\n",
    "\n",
    "ime = pd.merge(tocka, povp_bliznje, left_on = 'ime', right_on = 'ime')\n",
    "ime.groupby('ime').head()\n",
    "\n",
    "visine_priljubljenost\n",
    "tocka['povprečje višin bližnjih točk'] = visine_priljubljenost.groupby('ime')[['ime', 'višina bližnje točke (m)']].median()\n",
    "#tocka.plot.scatter('višina (m)',\n",
    "tocka"
   ]
  },
  {
   "cell_type": "markdown",
   "metadata": {},
   "source": [
    "Ali lahko preko vrste predvidemo višino planinske točke?\n",
    "-----------------------------------------------------------------------------------\n",
    "Spodnji grafi pripadajo določeni vrsti planinske točke in prikazujejo njihovo število na določeni višini (po 100 m).\n",
    "\n",
    "Večina bivakov leži med 1300 m in 2100 m, za jezera, cerkve in sedla težko kaj povemo, večina slapov med 400 m in 900 m, planin med 1000 m in 1600 m, skoraj vse koče ležijo pod 1800 m, več kot dve tretjini vrhov pa je nad 1500 m.\n"
   ]
  },
  {
   "cell_type": "code",
   "execution_count": 388,
   "metadata": {},
   "outputs": [
    {
     "data": {
      "text/plain": [
       "vrsta  zaokrožena višina\n",
       "bivak  500                  1\n",
       "       700                  1\n",
       "       1000                 2\n",
       "       1100                 1\n",
       "       1200                 2\n",
       "       1300                 7\n",
       "       1400                 8\n",
       "       1500                 7\n",
       "       1600                 6\n",
       "       1700                 3\n",
       "dtype: int64"
      ]
     },
     "execution_count": 388,
     "metadata": {},
     "output_type": "execute_result"
    }
   ],
   "source": [
    "#združimo vrste in zaokrožene višine\n",
    "vrste_visine = pd.merge(planinske_tocke, vrste[~vrste.vrsta.isnull()], left_on = 'ime', right_on = 'točka')[['zaokrožena višina', 'vrsta']]\n",
    "\n",
    "vrste_visine[['zaokrožena višina', 'vrsta']].groupby(['vrsta', 'zaokrožena višina']).size().head(10)"
   ]
  },
  {
   "cell_type": "code",
   "execution_count": 389,
   "metadata": {},
   "outputs": [
    {
     "data": {
      "text/plain": [
       "zaokrožena višina  vrsta \n",
       "200                jezero    1\n",
       "                   slap      2\n",
       "300                koča      1\n",
       "                   slap      1\n",
       "400                cerkev    6\n",
       "                   jezero    3\n",
       "                   koča      1\n",
       "                   slap      4\n",
       "                   vrh       7\n",
       "500                bivak     1\n",
       "dtype: int64"
      ]
     },
     "execution_count": 389,
     "metadata": {},
     "output_type": "execute_result"
    }
   ],
   "source": [
    "#število točk določene vrste na višino\n",
    "vrste_visine[['zaokrožena višina', 'vrsta']].groupby(['zaokrožena višina', 'vrsta']).size().head(10)"
   ]
  },
  {
   "cell_type": "code",
   "execution_count": 323,
   "metadata": {},
   "outputs": [
    {
     "data": {
      "text/plain": [
       "zaokrožena višina\n",
       "500     1\n",
       "700     1\n",
       "1000    2\n",
       "1100    1\n",
       "1200    2\n",
       "1300    7\n",
       "1400    8\n",
       "1500    7\n",
       "1600    6\n",
       "1700    3\n",
       "1800    6\n",
       "1900    8\n",
       "2000    5\n",
       "2100    4\n",
       "2200    1\n",
       "2300    1\n",
       "2400    1\n",
       "2500    1\n",
       "2800    1\n",
       "dtype: int64"
      ]
     },
     "execution_count": 323,
     "metadata": {},
     "output_type": "execute_result"
    }
   ],
   "source": [
    "#BIVAK\n",
    "vrste_visine[vrste_visine.vrsta == 'bivak'].groupby('zaokrožena višina').size()"
   ]
  },
  {
   "cell_type": "code",
   "execution_count": 321,
   "metadata": {},
   "outputs": [
    {
     "data": {
      "text/plain": [
       "<matplotlib.axes._subplots.AxesSubplot at 0x1805b7f67f0>"
      ]
     },
     "execution_count": 321,
     "metadata": {},
     "output_type": "execute_result"
    },
    {
     "data": {
      "image/png": "[encoded data removed]",
      "text/plain": [
       "<Figure size 432x288 with 1 Axes>"
      ]
     },
     "metadata": {
      "needs_background": "light"
     },
     "output_type": "display_data"
    }
   ],
   "source": [
    "vrste_visine[vrste_visine.vrsta == 'bivak'].groupby('zaokrožena višina').size().plot.bar()"
   ]
  },
  {
   "cell_type": "code",
   "execution_count": 320,
   "metadata": {},
   "outputs": [
    {
     "data": {
      "text/plain": [
       "zaokrožena višina\n",
       "200     1\n",
       "400     3\n",
       "500     1\n",
       "600     4\n",
       "700     3\n",
       "800     2\n",
       "900     2\n",
       "1000    3\n",
       "1200    1\n",
       "1300    1\n",
       "1400    1\n",
       "1500    1\n",
       "1600    4\n",
       "1700    1\n",
       "1800    4\n",
       "1900    2\n",
       "2000    1\n",
       "2100    1\n",
       "dtype: int64"
      ]
     },
     "execution_count": 320,
     "metadata": {},
     "output_type": "execute_result"
    }
   ],
   "source": [
    "vrste_visine[vrste_visine.vrsta == 'jezero'].groupby('zaokrožena višina').size()"
   ]
  },
  {
   "cell_type": "code",
   "execution_count": 319,
   "metadata": {},
   "outputs": [
    {
     "data": {
      "text/plain": [
       "<matplotlib.axes._subplots.AxesSubplot at 0x1805b732390>"
      ]
     },
     "execution_count": 319,
     "metadata": {},
     "output_type": "execute_result"
    },
    {
     "data": {
      "image/png": "[encoded data removed]",
      "text/plain": [
       "<Figure size 432x288 with 1 Axes>"
      ]
     },
     "metadata": {
      "needs_background": "light"
     },
     "output_type": "display_data"
    }
   ],
   "source": [
    "#JEZERO\n",
    "vrste_visine[vrste_visine.vrsta == 'jezero'].groupby('zaokrožena višina').size().plot.bar()"
   ]
  },
  {
   "cell_type": "code",
   "execution_count": 318,
   "metadata": {},
   "outputs": [
    {
     "data": {
      "text/plain": [
       "zaokrožena višina\n",
       "200      2\n",
       "300      1\n",
       "400      4\n",
       "500      4\n",
       "600      5\n",
       "700     12\n",
       "800      7\n",
       "900      4\n",
       "1000     1\n",
       "1100     1\n",
       "1200     1\n",
       "1300     1\n",
       "dtype: int64"
      ]
     },
     "execution_count": 318,
     "metadata": {},
     "output_type": "execute_result"
    }
   ],
   "source": [
    "#SLAP\n",
    "vrste_visine[vrste_visine.vrsta == 'slap'].groupby('zaokrožena višina').size()"
   ]
  },
  {
   "cell_type": "code",
   "execution_count": 317,
   "metadata": {},
   "outputs": [
    {
     "data": {
      "text/plain": [
       "<matplotlib.axes._subplots.AxesSubplot at 0x1805b6bd710>"
      ]
     },
     "execution_count": 317,
     "metadata": {},
     "output_type": "execute_result"
    },
    {
     "data": {
      "image/png": "[encoded data removed]",
      "text/plain": [
       "<Figure size 432x288 with 1 Axes>"
      ]
     },
     "metadata": {
      "needs_background": "light"
     },
     "output_type": "display_data"
    }
   ],
   "source": [
    "vrste_visine[vrste_visine.vrsta == 'slap'].groupby('zaokrožena višina').size().plot.bar()"
   ]
  },
  {
   "cell_type": "code",
   "execution_count": 316,
   "metadata": {},
   "outputs": [
    {
     "data": {
      "text/plain": [
       "zaokrožena višina\n",
       "400      7\n",
       "500     12\n",
       "600     11\n",
       "700     16\n",
       "800     26\n",
       "900     12\n",
       "1000    24\n",
       "1100    19\n",
       "1200    16\n",
       "1300    15\n",
       "1400    22\n",
       "1500    46\n",
       "1600    45\n",
       "1700    43\n",
       "1800    50\n",
       "1900    59\n",
       "2000    64\n",
       "2100    32\n",
       "2200    25\n",
       "2300    36\n",
       "2400    28\n",
       "2500    22\n",
       "2600     8\n",
       "2700     3\n",
       "2800     1\n",
       "dtype: int64"
      ]
     },
     "execution_count": 316,
     "metadata": {},
     "output_type": "execute_result"
    }
   ],
   "source": [
    "#VRH\n",
    "vrste_visine[vrste_visine.vrsta == 'vrh'].groupby('zaokrožena višina').size()"
   ]
  },
  {
   "cell_type": "code",
   "execution_count": 315,
   "metadata": {},
   "outputs": [
    {
     "data": {
      "text/plain": [
       "<matplotlib.axes._subplots.AxesSubplot at 0x1805b5f36a0>"
      ]
     },
     "execution_count": 315,
     "metadata": {},
     "output_type": "execute_result"
    },
    {
     "data": {
      "image/png": "[encoded data removed]",
      "text/plain": [
       "<Figure size 432x288 with 1 Axes>"
      ]
     },
     "metadata": {
      "needs_background": "light"
     },
     "output_type": "display_data"
    }
   ],
   "source": [
    "vrste_visine[vrste_visine.vrsta == 'vrh'].groupby('zaokrožena višina').size().plot.bar()"
   ]
  },
  {
   "cell_type": "code",
   "execution_count": 313,
   "metadata": {},
   "outputs": [
    {
     "data": {
      "text/plain": [
       "zaokrožena višina\n",
       "500      1\n",
       "600      1\n",
       "700      2\n",
       "800      7\n",
       "900      5\n",
       "1000    16\n",
       "1100    17\n",
       "1200    31\n",
       "1300    30\n",
       "1400    36\n",
       "1500    39\n",
       "1600    23\n",
       "1700     6\n",
       "1800     3\n",
       "1900     1\n",
       "dtype: int64"
      ]
     },
     "execution_count": 313,
     "metadata": {},
     "output_type": "execute_result"
    }
   ],
   "source": [
    "#PLANINA\n",
    "vrste_visine[vrste_visine.vrsta == 'planina'].groupby('zaokrožena višina').size()"
   ]
  },
  {
   "cell_type": "code",
   "execution_count": 314,
   "metadata": {},
   "outputs": [
    {
     "data": {
      "text/plain": [
       "<matplotlib.axes._subplots.AxesSubplot at 0x1805b552eb8>"
      ]
     },
     "execution_count": 314,
     "metadata": {},
     "output_type": "execute_result"
    },
    {
     "data": {
      "image/png": "[encoded data removed]",
      "text/plain": [
       "<Figure size 432x288 with 1 Axes>"
      ]
     },
     "metadata": {
      "needs_background": "light"
     },
     "output_type": "display_data"
    }
   ],
   "source": [
    "vrste_visine[vrste_visine.vrsta == 'planina'].groupby('zaokrožena višina').size().plot.bar()"
   ]
  },
  {
   "cell_type": "code",
   "execution_count": 312,
   "metadata": {},
   "outputs": [
    {
     "data": {
      "text/plain": [
       "zaokrožena višina\n",
       "300      1\n",
       "400      1\n",
       "500      3\n",
       "600      6\n",
       "700      6\n",
       "800     11\n",
       "900      8\n",
       "1000    13\n",
       "1100    11\n",
       "1200    10\n",
       "1300    16\n",
       "1400    19\n",
       "1500    21\n",
       "1600    16\n",
       "1700     5\n",
       "1800     6\n",
       "1900     1\n",
       "2000     3\n",
       "2100     3\n",
       "2200     1\n",
       "2300     1\n",
       "2400     1\n",
       "2500     1\n",
       "dtype: int64"
      ]
     },
     "execution_count": 312,
     "metadata": {},
     "output_type": "execute_result"
    }
   ],
   "source": [
    "#KOČA\n",
    "vrste_visine[vrste_visine.vrsta == 'koča'].groupby('zaokrožena višina').size()"
   ]
  },
  {
   "cell_type": "code",
   "execution_count": 311,
   "metadata": {},
   "outputs": [
    {
     "data": {
      "text/plain": [
       "<matplotlib.axes._subplots.AxesSubplot at 0x1805b47cb00>"
      ]
     },
     "execution_count": 311,
     "metadata": {},
     "output_type": "execute_result"
    },
    {
     "data": {
      "image/png": "[encoded data removed]",
      "text/plain": [
       "<Figure size 432x288 with 1 Axes>"
      ]
     },
     "metadata": {
      "needs_background": "light"
     },
     "output_type": "display_data"
    }
   ],
   "source": [
    "vrste_visine[vrste_visine.vrsta == 'koča'].groupby('zaokrožena višina').size().plot.bar()"
   ]
  },
  {
   "cell_type": "code",
   "execution_count": 310,
   "metadata": {},
   "outputs": [
    {
     "data": {
      "text/plain": [
       "zaokrožena višina\n",
       "400      6\n",
       "500      8\n",
       "600     10\n",
       "700      7\n",
       "800     11\n",
       "900      8\n",
       "1000     7\n",
       "1100     3\n",
       "1200     5\n",
       "1300     1\n",
       "1400     2\n",
       "1500     5\n",
       "1600     5\n",
       "1700     3\n",
       "2500     1\n",
       "dtype: int64"
      ]
     },
     "execution_count": 310,
     "metadata": {},
     "output_type": "execute_result"
    }
   ],
   "source": [
    "#CERKEV\n",
    "vrste_visine[vrste_visine.vrsta == 'cerkev'].groupby('zaokrožena višina').size()"
   ]
  },
  {
   "cell_type": "code",
   "execution_count": 307,
   "metadata": {},
   "outputs": [
    {
     "data": {
      "text/plain": [
       "<matplotlib.axes._subplots.AxesSubplot at 0x1805a39da90>"
      ]
     },
     "execution_count": 307,
     "metadata": {},
     "output_type": "execute_result"
    },
    {
     "data": {
      "image/png": "[encoded data removed]",
      "text/plain": [
       "<Figure size 432x288 with 1 Axes>"
      ]
     },
     "metadata": {
      "needs_background": "light"
     },
     "output_type": "display_data"
    }
   ],
   "source": [
    "vrste_visine[vrste_visine.vrsta == 'cerkev'].groupby('zaokrožena višina').size().plot.bar()"
   ]
  },
  {
   "cell_type": "code",
   "execution_count": 309,
   "metadata": {},
   "outputs": [
    {
     "data": {
      "text/plain": [
       "zaokrožena višina\n",
       "800     2\n",
       "1000    3\n",
       "1100    3\n",
       "1200    4\n",
       "1300    3\n",
       "1400    4\n",
       "1500    7\n",
       "1600    2\n",
       "1700    4\n",
       "1800    3\n",
       "1900    2\n",
       "2000    1\n",
       "2100    3\n",
       "dtype: int64"
      ]
     },
     "execution_count": 309,
     "metadata": {},
     "output_type": "execute_result"
    }
   ],
   "source": [
    "#SEDLO\n",
    "vrste_visine[vrste_visine.vrsta == 'sedlo'].groupby('zaokrožena višina').size()"
   ]
  },
  {
   "cell_type": "code",
   "execution_count": 308,
   "metadata": {},
   "outputs": [
    {
     "data": {
      "text/plain": [
       "<matplotlib.axes._subplots.AxesSubplot at 0x1805a32da58>"
      ]
     },
     "execution_count": 308,
     "metadata": {},
     "output_type": "execute_result"
    },
    {
     "data": {
      "image/png": "[encoded data removed]",
      "text/plain": [
       "<Figure size 432x288 with 1 Axes>"
      ]
     },
     "metadata": {
      "needs_background": "light"
     },
     "output_type": "display_data"
    }
   ],
   "source": [
    "vrste_visine[vrste_visine.vrsta == 'sedlo'].groupby('zaokrožena višina').size().plot.bar()"
   ]
  },
  {
   "cell_type": "markdown",
   "metadata": {},
   "source": [
    "Analiza po zahtevnosti poti (začetek)\n",
    "-----------------------------------------------------\n",
    "Vidimo, da imamo v naših Alpah največ lahkih poti."
   ]
  },
  {
   "cell_type": "code",
   "execution_count": 390,
   "metadata": {},
   "outputs": [
    {
     "data": {
      "text/html": [
       "<div>\n",
       "<style scoped>\n",
       "    .dataframe tbody tr th:only-of-type {\n",
       "        vertical-align: middle;\n",
       "    }\n",
       "\n",
       "    .dataframe tbody tr th {\n",
       "        vertical-align: top;\n",
       "    }\n",
       "\n",
       "    .dataframe thead th {\n",
       "        text-align: right;\n",
       "    }\n",
       "</style>\n",
       "<table border=\"1\" class=\"dataframe\">\n",
       "  <thead>\n",
       "    <tr style=\"text-align: right;\">\n",
       "      <th></th>\n",
       "      <th>ime</th>\n",
       "    </tr>\n",
       "    <tr>\n",
       "      <th>zahtevnost</th>\n",
       "      <th></th>\n",
       "    </tr>\n",
       "  </thead>\n",
       "  <tbody>\n",
       "    <tr>\n",
       "      <td>alpinistični vzpon</td>\n",
       "      <td>12</td>\n",
       "    </tr>\n",
       "    <tr>\n",
       "      <td>delno zahtevna neoznačena pot</td>\n",
       "      <td>98</td>\n",
       "    </tr>\n",
       "    <tr>\n",
       "      <td>delno zahtevna označena pot</td>\n",
       "      <td>277</td>\n",
       "    </tr>\n",
       "    <tr>\n",
       "      <td>izjemno zahtevna označena pot</td>\n",
       "      <td>29</td>\n",
       "    </tr>\n",
       "    <tr>\n",
       "      <td>lahka neoznačena steza</td>\n",
       "      <td>773</td>\n",
       "    </tr>\n",
       "    <tr>\n",
       "      <td>lahka označena pot</td>\n",
       "      <td>1528</td>\n",
       "    </tr>\n",
       "    <tr>\n",
       "      <td>lahko brezpotje</td>\n",
       "      <td>142</td>\n",
       "    </tr>\n",
       "    <tr>\n",
       "      <td>ni podatka</td>\n",
       "      <td>5</td>\n",
       "    </tr>\n",
       "    <tr>\n",
       "      <td>zahtevna neoznačena steza</td>\n",
       "      <td>85</td>\n",
       "    </tr>\n",
       "    <tr>\n",
       "      <td>zahtevna označena pot</td>\n",
       "      <td>284</td>\n",
       "    </tr>\n",
       "    <tr>\n",
       "      <td>zahtevno brezpotje</td>\n",
       "      <td>59</td>\n",
       "    </tr>\n",
       "    <tr>\n",
       "      <td>zelo zahtevna neoznačena steza</td>\n",
       "      <td>24</td>\n",
       "    </tr>\n",
       "    <tr>\n",
       "      <td>zelo zahtevna označena pot</td>\n",
       "      <td>262</td>\n",
       "    </tr>\n",
       "    <tr>\n",
       "      <td>zelo zahtevno brezpotje</td>\n",
       "      <td>36</td>\n",
       "    </tr>\n",
       "  </tbody>\n",
       "</table>\n",
       "</div>"
      ],
      "text/plain": [
       "                                 ime\n",
       "zahtevnost                          \n",
       "alpinistični vzpon                12\n",
       "delno zahtevna neoznačena pot     98\n",
       "delno zahtevna označena pot      277\n",
       "izjemno zahtevna označena pot     29\n",
       "lahka neoznačena steza           773\n",
       "lahka označena pot              1528\n",
       "lahko brezpotje                  142\n",
       "ni podatka                         5\n",
       "zahtevna neoznačena steza         85\n",
       "zahtevna označena pot            284\n",
       "zahtevno brezpotje                59\n",
       "zelo zahtevna neoznačena steza    24\n",
       "zelo zahtevna označena pot       262\n",
       "zelo zahtevno brezpotje           36"
      ]
     },
     "execution_count": 390,
     "metadata": {},
     "output_type": "execute_result"
    }
   ],
   "source": [
    "#združimo poti z zahtevnostmi\n",
    "pot = pd.merge(planinske_tocke, poti[~poti.zahtevnost.isnull()], left_on = 'ime', right_on = 'ime planinske točke')[['ime', 'gorovje', 'pot', 'zahtevnost']]\n",
    "\n",
    "pot[['ime', 'zahtevnost']].groupby('zahtevnost').count()"
   ]
  },
  {
   "cell_type": "code",
   "execution_count": 328,
   "metadata": {},
   "outputs": [
    {
     "data": {
      "text/plain": [
       "<matplotlib.axes._subplots.AxesSubplot at 0x1805b892eb8>"
      ]
     },
     "execution_count": 328,
     "metadata": {},
     "output_type": "execute_result"
    },
    {
     "data": {
      "image/png": "[encoded data removed]",
      "text/plain": [
       "<Figure size 432x288 with 1 Axes>"
      ]
     },
     "metadata": {
      "needs_background": "light"
     },
     "output_type": "display_data"
    }
   ],
   "source": [
    "pot[['ime', 'zahtevnost']].groupby('zahtevnost').count().plot.bar()"
   ]
  },
  {
   "cell_type": "code",
   "execution_count": 392,
   "metadata": {},
   "outputs": [
    {
     "data": {
      "text/plain": [
       "zahtevnost                     gorovje                \n",
       "alpinistični vzpon             Julijske Alpe               6\n",
       "                               Kamniško Savinjske Alpe     2\n",
       "                               Karavanke                   4\n",
       "delno zahtevna neoznačena pot  Julijske Alpe              40\n",
       "                               Kamniško Savinjske Alpe    26\n",
       "                                                          ..\n",
       "zelo zahtevna označena pot     Kamniško Savinjske Alpe    98\n",
       "                               Karavanke                  27\n",
       "zelo zahtevno brezpotje        Julijske Alpe              25\n",
       "                               Kamniško Savinjske Alpe     7\n",
       "                               Karavanke                   4\n",
       "Length: 41, dtype: int64"
      ]
     },
     "execution_count": 392,
     "metadata": {},
     "output_type": "execute_result"
    }
   ],
   "source": [
    "#število poti po zahtevnosti za določeno gorovje\n",
    "pot[['zahtevnost', 'gorovje']].groupby(['zahtevnost', 'gorovje']).size()"
   ]
  },
  {
   "cell_type": "markdown",
   "metadata": {},
   "source": [
    "Sklepna misel\n",
    "---------------------\n",
    "1. Nikoli več ne bom v imenu stolpca uporabila oklepaje.\n",
    "2. Analiza se je tu šele začela, še posebaj po zahtevnosti poti. (A polnoč se neustavljivo bliža.)\n",
    "3. Povsod, kjer je float bi moral biti int, ampak mi ni uspelo.\n",
    "\n",
    "> \"Kdor išče cilj, bo ostal prazen, ko ga bo dosegel, kdor pa najde pot, bo cilj vedno nosil v sebi.\" \n",
    "(Nejc Zaplotnik)"
   ]
  }
 ],
 "metadata": {
  "file_extension": ".py",
  "kernelspec": {
   "display_name": "Python 3",
   "language": "python",
   "name": "python3"
  },
  "language_info": {
   "codemirror_mode": {
    "name": "ipython",
    "version": 3
   },
   "file_extension": ".py",
   "mimetype": "text/x-python",
   "name": "python",
   "nbconvert_exporter": "python",
   "pygments_lexer": "ipython3",
   "version": "3.7.2"
  },
  "mimetype": "text/x-python",
  "name": "python",
  "npconvert_exporter": "python",
  "pygments_lexer": "ipython3",
  "version": 3
 },
 "nbformat": 4,
 "nbformat_minor": 2
}
